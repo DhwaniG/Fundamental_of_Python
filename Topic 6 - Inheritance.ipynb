{
 "cells": [
  {
   "cell_type": "markdown",
   "id": "d09877cc",
   "metadata": {},
   "source": [
    "#### 1. Create a class called Employee that inherits from the Person class. The Employee class should have an additional attribute called employee _id and a method called display employee info that prints out the employee’s name ,age ,gender and employee id."
   ]
  },
  {
   "cell_type": "code",
   "execution_count": 5,
   "id": "f159a85f",
   "metadata": {},
   "outputs": [],
   "source": [
    "class Person:\n",
    "    def __init__(self,name,age,gender):\n",
    "        self.name = name\n",
    "        self.age = age\n",
    "        self.gender = gender\n",
    "    def show(self):\n",
    "        print(f'''The Person Details are as follows:\n",
    "1. Name = {self.name}\n",
    "2. Age = {self.age}\n",
    "3. Gender = {self.gender}''')\n",
    "        \n",
    "class Employee(Person):\n",
    "    def __init__(self,name,age,gender,employee_id):\n",
    "        Person.__init__(self,name,age,gender)\n",
    "        self.employee_id = employee_id\n",
    "    def display_employee_info(self):\n",
    "        print(f'''The Person Details are as follows:\n",
    "1. Name = {self.name}\n",
    "2. Age = {self.age}\n",
    "3. Gender = {self.gender}\n",
    "4. employee_id = {self.employee_id}''')\n",
    "        "
   ]
  },
  {
   "cell_type": "code",
   "execution_count": 6,
   "id": "dca97872",
   "metadata": {},
   "outputs": [
    {
     "name": "stdout",
     "output_type": "stream",
     "text": [
      "The Person Details are as follows:\n",
      "1. Name = Dhwani\n",
      "2. Age = 27\n",
      "3. Gender = Female\n",
      "4. employee_id = 0011\n"
     ]
    }
   ],
   "source": [
    "e = Employee(\"Dhwani\",27,\"Female\",\"0011\")\n",
    "e.display_employee_info()"
   ]
  },
  {
   "cell_type": "markdown",
   "id": "ca1adac7",
   "metadata": {},
   "source": [
    "Explanation: In this program, a class is created, as Person with the attributes name, age and gender. Another class is derived from the Parent class, Person called as Employee with an extra attribute employee_id. And then everything is printed as message."
   ]
  },
  {
   "cell_type": "markdown",
   "id": "28e27480",
   "metadata": {},
   "source": [
    "#### 2. Create a class called Car that inherits from the Vehicle class. The Car class should have an additional attribute called num_doors and a method called lock _doors that prints out a message indicating that the doors have been locked."
   ]
  },
  {
   "cell_type": "code",
   "execution_count": 1,
   "id": "523051e5",
   "metadata": {},
   "outputs": [],
   "source": [
    "class Vehicle:  ## Class Creation\n",
    "    def __init__(self,make,model,year): # Attributes Allocation\n",
    "        self.make = make\n",
    "        self.model = model\n",
    "        self.year = year\n",
    "    def show(self):\n",
    "        print(f\"The Vehicle is made by {self.make}, with model {self.model}{self.year}\")\n",
    "        \n",
    "class Car(Vehicle):\n",
    "    def __init__(self,make,model,year,num_doors):\n",
    "        Vehicle.__init__(self,make,model,year)\n",
    "        self.num_doors = num_doors\n",
    "    def lock_doors(self):\n",
    "        print(\"The doors have been locked.\")\n",
    "        \n",
    "        #OR \n",
    "        \n",
    "        print(f\"The car has {self.num_doors} numbers of doors.\")\n",
    "    "
   ]
  },
  {
   "cell_type": "code",
   "execution_count": 2,
   "id": "05f402b2",
   "metadata": {},
   "outputs": [
    {
     "name": "stdout",
     "output_type": "stream",
     "text": [
      "The Vehicle is made by Toyota, with model Corolla2022\n",
      "The doors have been locked.\n",
      "The car has 4 numbers of doors.\n"
     ]
    }
   ],
   "source": [
    "C = Car(\"Toyota\", \"Corolla\", 2022,4)\n",
    "C.show()\n",
    "C.lock_doors()"
   ]
  },
  {
   "cell_type": "markdown",
   "id": "5681f60b",
   "metadata": {},
   "source": [
    "Explanation: In this program, a class is created, as Vehicle with the attributes make, model, year. Another class is derived from the Parent class, Vehicle called as Car with an extra attribute num_doors. And then ‘The doors have been locked.’ is printed as message."
   ]
  },
  {
   "cell_type": "markdown",
   "id": "fe65b40e",
   "metadata": {},
   "source": [
    "#### 3. Create a class called Cylinder that inherits from the Circle class. The Cylinder class should have an additional attribute called height and a method called get_volume that calculates and returns the volume of the cylinder."
   ]
  },
  {
   "cell_type": "code",
   "execution_count": 1,
   "id": "f6860bbf",
   "metadata": {},
   "outputs": [],
   "source": [
    "import math\n",
    "\n",
    "class Circle:  ## Class Creation\n",
    "    def __init__(self,radius): # Attributes Allocation\n",
    "        self.radius = radius\n",
    "        \n",
    "class Cylinder(Circle):\n",
    "    def __init__(self,radius,height):\n",
    "        Circle.__init__(self,radius)\n",
    "        self.height = height\n",
    "    def get_volume(self):\n",
    "        print(f'1. The Volume of Circle for height({self.height}) is ',math.pi*self.radius*self.radius*self.height)"
   ]
  },
  {
   "cell_type": "code",
   "execution_count": 2,
   "id": "eda42f9f",
   "metadata": {},
   "outputs": [
    {
     "name": "stdout",
     "output_type": "stream",
     "text": [
      "1. The Volume of Circle for height(3) is  37.69911184307752\n"
     ]
    }
   ],
   "source": [
    "C = Cylinder(2,3)\n",
    "C.get_volume()"
   ]
  },
  {
   "cell_type": "markdown",
   "id": "1363b1dd",
   "metadata": {},
   "source": [
    "Explanation: In this program, a class is created, as Circle with the attribute radius. Another class is derived from the Parent class, Circle called as Cylinder with an extra attribute height. And then volume is calculated. "
   ]
  }
 ],
 "metadata": {
  "kernelspec": {
   "display_name": "Python 3 (ipykernel)",
   "language": "python",
   "name": "python3"
  },
  "language_info": {
   "codemirror_mode": {
    "name": "ipython",
    "version": 3
   },
   "file_extension": ".py",
   "mimetype": "text/x-python",
   "name": "python",
   "nbconvert_exporter": "python",
   "pygments_lexer": "ipython3",
   "version": "3.9.13"
  }
 },
 "nbformat": 4,
 "nbformat_minor": 5
}
