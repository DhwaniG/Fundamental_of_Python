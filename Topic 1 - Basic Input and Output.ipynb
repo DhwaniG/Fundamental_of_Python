{
 "cells": [
  {
   "cell_type": "markdown",
   "id": "a0062a04",
   "metadata": {},
   "source": [
    "#### Que 1. Write a program to print your introduction.\n",
    "\n"
   ]
  },
  {
   "cell_type": "code",
   "execution_count": 1,
   "id": "a8c2a15e",
   "metadata": {},
   "outputs": [],
   "source": [
    "Introduction = (\"\"\"Hello, I am Dhwani Gupta, from UP and brought up in Surat, Gujarat.\n",
    "I completed my schooling and graduation from Surat. I did my graduation in Civil Engineering,\n",
    "and then post-graduation in project management from NICMAR, Pune.\n",
    "I have 2.9 years of work experience in sales strategy and SFDC together.\n",
    "And currently I am learning Python.\"\"\")"
   ]
  },
  {
   "cell_type": "code",
   "execution_count": 2,
   "id": "cf7d62e5",
   "metadata": {},
   "outputs": [
    {
     "name": "stdout",
     "output_type": "stream",
     "text": [
      "Hello, I am Dhwani Gupta, from UP and brought up in Surat, Gujarat.\n",
      "I completed my schooling and graduation from Surat. I did my graduation in Civil Engineering,\n",
      "and then post-graduation in project management from NICMAR, Pune.\n",
      "I have 2.9 years of work experience in sales strategy and SFDC together.\n",
      "And currently I am learning Python.\n"
     ]
    }
   ],
   "source": [
    "print(Introduction)"
   ]
  },
  {
   "cell_type": "markdown",
   "id": "a1f78d98",
   "metadata": {},
   "source": [
    "Explanation: In this Program, to print introduction I have used a variable called “Introduction” to assign the value as self-introduction and then I simply printed it in cell no.5.And this is an example of Multiline Strings."
   ]
  },
  {
   "cell_type": "markdown",
   "id": "c8c605fe",
   "metadata": {},
   "source": [
    "#### Que 2. Write a program to perform the following operations: Addition, Subtraction, Multiplication, Division, Modulus, Exponent."
   ]
  },
  {
   "cell_type": "code",
   "execution_count": 4,
   "id": "91957665",
   "metadata": {},
   "outputs": [
    {
     "name": "stdout",
     "output_type": "stream",
     "text": [
      "Enter the first number10\n",
      "Enter the second number20\n",
      "Addition of first number and second number is 30\n"
     ]
    }
   ],
   "source": [
    "##1. Addition\n",
    "\n",
    "num = int(input('Enter the first number'))\n",
    "num1 = int(input('Enter the second number'))\n",
    "res = num+num1\n",
    "print ('Addition of first number and second number is', res)"
   ]
  },
  {
   "cell_type": "markdown",
   "id": "7e77e246",
   "metadata": {},
   "source": [
    "Explanation: Addition is an arithmetic operator which adds the inputs together. In this Program, two user inputs are taken and then in \"res\", addition formula is written and then print is used to print the statement with the result obtained by the formula.Addition is denoted by \"+\"."
   ]
  },
  {
   "cell_type": "code",
   "execution_count": 5,
   "id": "20e75cf7",
   "metadata": {},
   "outputs": [
    {
     "name": "stdout",
     "output_type": "stream",
     "text": [
      "Enter the first number20\n",
      "Enter the second number10\n",
      "Subtraction of first number and second number is 10\n"
     ]
    }
   ],
   "source": [
    "##2. Subtraction\n",
    "\n",
    "num = int(input('Enter the first number'))\n",
    "num1 = int(input('Enter the second number'))\n",
    "res = num-num1\n",
    "print ('Subtraction of first number and second number is', res)"
   ]
  },
  {
   "cell_type": "markdown",
   "id": "dd0ab6d6",
   "metadata": {},
   "source": [
    "Explanation: Subtraction is an arithmetic operator which is used to subtract the second value from the first value. In this Program, two user inputs are taken and then in \"res\", subtraction formula is written and then print is used to print the statement with the result obtained by the formula. Subtraction is denoted by “-“."
   ]
  },
  {
   "cell_type": "code",
   "execution_count": 6,
   "id": "1318ece5",
   "metadata": {},
   "outputs": [
    {
     "name": "stdout",
     "output_type": "stream",
     "text": [
      "Enter the first number10\n",
      "Enter the second number10\n",
      "Multiplication of first number and second number is 100\n"
     ]
    }
   ],
   "source": [
    "##3. Multiplication\n",
    "\n",
    "num = int(input('Enter the first number'))\n",
    "num1 = int(input('Enter the second number'))\n",
    "res = num*num1\n",
    "print ('Multiplication of first number and second number is', res)"
   ]
  },
  {
   "cell_type": "markdown",
   "id": "ee5e7e86",
   "metadata": {},
   "source": [
    "Explanation: Multiplication is an arithmetic operator which is used to find the product of two or more numbers. In this Program, two user inputs are taken and then in \"res\",Multiplication formula is written and then print is used to print the statement with the result obtained by the formula. Multiplication is denoted by “*“."
   ]
  },
  {
   "cell_type": "code",
   "execution_count": 7,
   "id": "48e6e18b",
   "metadata": {},
   "outputs": [
    {
     "name": "stdout",
     "output_type": "stream",
     "text": [
      "Enter the first number25\n",
      "Enter the second number5\n",
      "Division of first number and second number is  5.0\n"
     ]
    }
   ],
   "source": [
    "##4. Division\n",
    "\n",
    "num = int(input('Enter the first number'))\n",
    "num1 = int(input('Enter the second number'))\n",
    "res = num/num1\n",
    "print ('Division of first number and second number is ', res)"
   ]
  },
  {
   "cell_type": "markdown",
   "id": "dad3b252",
   "metadata": {},
   "source": [
    "Explanation: Division is an arithmetic operator. It is used to find the quotient when first operand is divided by the second. In this Program, two user inputs are taken and then in \"res\", Division formula is written and then print is used to print the statement with the result obtained by the formula. Division is denoted by “/“."
   ]
  },
  {
   "cell_type": "code",
   "execution_count": 9,
   "id": "4a789b9c",
   "metadata": {},
   "outputs": [
    {
     "name": "stdout",
     "output_type": "stream",
     "text": [
      "Enter the first number44\n",
      "Enter the second number5\n",
      "Modulus of first number and second number is 4\n"
     ]
    }
   ],
   "source": [
    "##5. Modulus\n",
    "\n",
    "num = int(input('Enter the first number'))\n",
    "num1 = int(input('Enter the second number'))\n",
    "res = num%num1\n",
    "print ('Modulus of first number and second number is', res)"
   ]
  },
  {
   "cell_type": "markdown",
   "id": "017a6116",
   "metadata": {},
   "source": [
    "Explanation: Modulus is an arithmetic operator. It is used to find the remainder when first operand is divided by the second. In this Program, two user inputs are taken and then in \"res\", Modulus formula is written and then print is used to print the statement with the result obtained by the formula. Modulus is denoted by “%“."
   ]
  },
  {
   "cell_type": "code",
   "execution_count": 11,
   "id": "7f07bd88",
   "metadata": {},
   "outputs": [
    {
     "name": "stdout",
     "output_type": "stream",
     "text": [
      "Enter the first number2\n",
      "Enter the second number4\n",
      "Exponent of first number and second number is 16\n"
     ]
    }
   ],
   "source": [
    "##6. Exponent\n",
    "\n",
    "num = int(input('Enter the first number'))\n",
    "num1 = int(input('Enter the second number'))\n",
    "res = num**num1\n",
    "print ('Exponent of first number and second number is', res)"
   ]
  },
  {
   "cell_type": "markdown",
   "id": "6692ae7c",
   "metadata": {},
   "source": [
    "Explanation: Exponent is an arithmetic operator. It is used to raise the first operand to power of second. In this Program, two user inputs are taken and then in \"res\", Exponent formula is written and then print is used to print the statement with the result obtained by the formula. Exponent is denoted by “**“."
   ]
  },
  {
   "cell_type": "markdown",
   "id": "8b899c06",
   "metadata": {},
   "source": [
    "#### Que 3. Write a program to swap two numbers."
   ]
  },
  {
   "cell_type": "code",
   "execution_count": 13,
   "id": "7401ec6e",
   "metadata": {},
   "outputs": [
    {
     "name": "stdout",
     "output_type": "stream",
     "text": [
      "Enter a:10\n",
      "Enter b:20\n",
      "The value of a before swap: 10\n",
      "The value of b before swap: 20\n",
      "The value of a after swap: 20\n",
      "The value of b after swap: 10\n"
     ]
    }
   ],
   "source": [
    "a = int(input(\"Enter a:\"))\n",
    "b = int(input(\"Enter b:\"))\n",
    "\n",
    "print(\"The value of a before swap:\",a)\n",
    "print(\"The value of b before swap:\",b)\n",
    "\n",
    "temp = a\n",
    "a = b\n",
    "b = temp\n",
    "\n",
    "print(\"The value of a after swap:\",a)\n",
    "print(\"The value of b after swap:\",b)"
   ]
  },
  {
   "cell_type": "markdown",
   "id": "9b5ade74",
   "metadata": {},
   "source": [
    "Explanation: In this Program, the swapping is done with the help of 3rd variable. Firstly, two user inputs are taken and printed before the swap. \"Temp\" variable is used to store the x temporarily. Then put the value of y in x and later temp in y. Printed the values after the swap."
   ]
  },
  {
   "cell_type": "markdown",
   "id": "0448f56f",
   "metadata": {},
   "source": [
    "#### Que 4. Write a program to swap two numbers without using third variable."
   ]
  },
  {
   "cell_type": "code",
   "execution_count": 14,
   "id": "bb74e0b4",
   "metadata": {},
   "outputs": [
    {
     "name": "stdout",
     "output_type": "stream",
     "text": [
      "Enter a:4\n",
      "Enter b:5\n",
      "The value of a before swap: 4\n",
      "The value of b before swap: 5\n",
      "The value of a after swap: 5\n",
      "The value of b after swap: 4\n"
     ]
    }
   ],
   "source": [
    "a = int(input(\"Enter a:\"))\n",
    "b = int(input(\"Enter b:\"))\n",
    "\n",
    "print(\"The value of a before swap:\",a)\n",
    "print(\"The value of b before swap:\",b)\n",
    "\n",
    "a = a+b #-->a = 4+5=9\n",
    "b = a-b #--> b = 9-5=4\n",
    "a = a-b #--> a = 9-4=5\n",
    "\n",
    "print(\"The value of a after swap:\",a)\n",
    "print(\"The value of b after swap:\",b)"
   ]
  },
  {
   "cell_type": "markdown",
   "id": "e3e6c1ff",
   "metadata": {},
   "source": [
    "Explanation: In this Program, the swapping is done without the help of 3rd variable. Firstly, two user inputs are taken and printed before the swap. By using Addition and Subtraction Operators. Working is shown in the code itself.Have swapped the values. Printed the values after the swap."
   ]
  },
  {
   "cell_type": "code",
   "execution_count": 16,
   "id": "f79b1675",
   "metadata": {},
   "outputs": [
    {
     "name": "stdout",
     "output_type": "stream",
     "text": [
      "Enter a:50\n",
      "Enter b:100\n",
      "The value of a before swap: 50\n",
      "The value of b before swap: 100\n",
      "The value of a after swap: 100\n",
      "The value of b after swap: 50\n"
     ]
    }
   ],
   "source": [
    "a = int(input(\"Enter a:\"))\n",
    "b = int(input(\"Enter b:\"))\n",
    "\n",
    "print(\"The value of a before swap:\",a)\n",
    "print(\"The value of b before swap:\",b)\n",
    "\n",
    "a,b=b,a\n",
    "\n",
    "print(\"The value of a after swap:\",a)\n",
    "print(\"The value of b after swap:\",b)"
   ]
  },
  {
   "cell_type": "markdown",
   "id": "a193e214",
   "metadata": {},
   "source": [
    "Explanation: In this Program, the swapping is done without the help of 3rd variable. Firstly, two user inputs are taken and printed before the swap. By using simple built-in method which is \"left, right = right, left\", have swapped the values. Printed the inputs after the swap."
   ]
  },
  {
   "cell_type": "markdown",
   "id": "dee60547",
   "metadata": {},
   "source": [
    "#### Que 5. Write a program to compute simple interest."
   ]
  },
  {
   "cell_type": "code",
   "execution_count": 10,
   "id": "7a01593e",
   "metadata": {},
   "outputs": [
    {
     "name": "stdout",
     "output_type": "stream",
     "text": [
      "Enter the Principal Amount1000\n",
      "Enter the Rate5\n",
      "Enter the Time4\n",
      "Simple Interest is 200.0\n"
     ]
    }
   ],
   "source": [
    "P = int(input('Enter the Principal Amount'))\n",
    "R = int(input('Enter the Rate'))\n",
    "T = int(input('Enter the Time'))\n",
    "res = (P*R*T)/100\n",
    "print ('Simple Interest is', res)"
   ]
  },
  {
   "cell_type": "markdown",
   "id": "9a794ad0",
   "metadata": {},
   "source": [
    "Explanation: In this Program, to compute simple interest (Simple interest is an interest charge that borrowers pay lenders for a loan.), firstly 3 user inputs are taken as principal, rate and time as it is used to find the simple interest. In \"res\", the formula is written. Then printed the statement with the result."
   ]
  },
  {
   "cell_type": "markdown",
   "id": "bbfcb1d4",
   "metadata": {},
   "source": [
    "#### Que 6. Write a program to find average of 5 numbers by user input."
   ]
  },
  {
   "cell_type": "code",
   "execution_count": 23,
   "id": "46e0083a",
   "metadata": {},
   "outputs": [
    {
     "name": "stdout",
     "output_type": "stream",
     "text": [
      "Enter Number 1.:1\n",
      "Enter Number 2.:2\n",
      "Enter Number 3.:3\n",
      "Enter Number 4.:4\n",
      "Enter Number 5.:5\n",
      "The Average of given 5 number is  3.0\n"
     ]
    }
   ],
   "source": [
    "num1 = int(input(\"Enter Number 1.:\"))\n",
    "num2 = int(input(\"Enter Number 2.:\"))\n",
    "num3 = int(input(\"Enter Number 3.:\"))\n",
    "num4 = int(input(\"Enter Number 4.:\"))\n",
    "num5 = int(input(\"Enter Number 5.:\"))\n",
    "\n",
    "res = (num1+num2+num3+num4+num5)/5\n",
    "\n",
    "print(\"The Average of given 5 number is \",res)\n",
    "\n",
    "                      "
   ]
  },
  {
   "cell_type": "markdown",
   "id": "7af2ac9e",
   "metadata": {},
   "source": [
    "Explanation: In this Program, to find average of 5 numbers by user input, firstly 5 user inputs are taken. Then in \"res\", average formula is stored which is Sum of all the values/ Total number of values. Then printed statement with the result."
   ]
  },
  {
   "cell_type": "markdown",
   "id": "5f10da8d",
   "metadata": {},
   "source": [
    "#### Que 7. Write a program to calculate the discriminant of the quadratic equation."
   ]
  },
  {
   "cell_type": "code",
   "execution_count": 22,
   "id": "8d2d8d02",
   "metadata": {},
   "outputs": [
    {
     "name": "stdout",
     "output_type": "stream",
     "text": [
      "Enter a: 34\n",
      "Enter b: 34\n",
      "Enter c: 5\n",
      "The discriminant of the quadratic equation is 476.0\n"
     ]
    }
   ],
   "source": [
    "a = float(input('Enter a: '))  \n",
    "b = float(input('Enter b: '))  \n",
    "c = float(input('Enter c: '))  \n",
    "\n",
    "d = (b*b) - (4*a*c)\n",
    "\n",
    "print(\"The discriminant of the quadratic equation is\",d)"
   ]
  },
  {
   "cell_type": "markdown",
   "id": "b3c67c62",
   "metadata": {},
   "source": [
    "Explanation: In this Program, to calculate the discriminant of the quadratic equation. firstly 3 user inputs are taken in float. Then in \"d\", discriminant formula is stored which is (b*b) - (4a*c). (Discriminant is used to find the roots of the equations). Then printed statement with the result."
   ]
  },
  {
   "cell_type": "markdown",
   "id": "17fc246d",
   "metadata": {},
   "source": [
    "#### Que 8. Write a program to calculate the areas of Rectangle, Square, Triangle and Circle."
   ]
  },
  {
   "cell_type": "code",
   "execution_count": 21,
   "id": "fa28a7bf",
   "metadata": {},
   "outputs": [
    {
     "name": "stdout",
     "output_type": "stream",
     "text": [
      "Enter the Length5\n",
      "Enter the Width6\n",
      "The Area for Rectangle is 30\n"
     ]
    }
   ],
   "source": [
    "##1. Rectangle\n",
    "\n",
    "Length = int(input('Enter the Length'))\n",
    "Width = int(input('Enter the Width'))\n",
    "\n",
    "Area = Length*Width\n",
    "\n",
    "print ('The Area for Rectangle is',Area)"
   ]
  },
  {
   "cell_type": "markdown",
   "id": "67db9be3",
   "metadata": {},
   "source": [
    "Explanation: In this Program, to compute Area of Rectangle (Area = length * width), firstly 2 user inputs are taken as length and width as it is used to find the area. In \" Area \" the formula is written. Then printed the statement with the result."
   ]
  },
  {
   "cell_type": "code",
   "execution_count": 20,
   "id": "6768eecd",
   "metadata": {},
   "outputs": [
    {
     "name": "stdout",
     "output_type": "stream",
     "text": [
      "Enter the side.:5\n",
      "The Area of Square is 25\n"
     ]
    }
   ],
   "source": [
    "##2. Square\n",
    "\n",
    "side = int(input(\"Enter the side.:\"))\n",
    "\n",
    "Area = side**2\n",
    "\n",
    "print(\"The Area of Square is\",Area)"
   ]
  },
  {
   "cell_type": "markdown",
   "id": "0e015fbd",
   "metadata": {},
   "source": [
    "Explanation: In this Program, to compute Area of Square (Area = side**2), firstly a user input is taken as side as it is used to find the area. In \" Area \" the formula is written. Then printed the statement with the result."
   ]
  },
  {
   "cell_type": "code",
   "execution_count": 19,
   "id": "886f4ff0",
   "metadata": {},
   "outputs": [
    {
     "name": "stdout",
     "output_type": "stream",
     "text": [
      "Enter the Base.:5\n",
      "Enter the Height6\n",
      "The Area of Triangle is 15.0\n"
     ]
    }
   ],
   "source": [
    "##3. Triangle\n",
    "\n",
    "b = int(input(\"Enter the Base.:\"))\n",
    "h = int(input(\"Enter the Height\"))\n",
    "\n",
    "Area = (h*b)/2\n",
    "\n",
    "print(\"The Area of Triangle is\",Area)"
   ]
  },
  {
   "cell_type": "markdown",
   "id": "c19d7130",
   "metadata": {},
   "source": [
    "Explanation: In this Program, to compute Area of Triangle (Area = (base*height)/2), firstly 2 user inputs are taken as base(b) and height(h) as it is used to find the area. In \" Area \" the formula is written. Then printed the statement with the result."
   ]
  },
  {
   "cell_type": "code",
   "execution_count": 18,
   "id": "924b6baf",
   "metadata": {},
   "outputs": [
    {
     "name": "stdout",
     "output_type": "stream",
     "text": [
      "enter Radius.:6\n",
      "The Area of Circle is  113.09733552923255\n"
     ]
    }
   ],
   "source": [
    "##4 Circle\n",
    "\n",
    "import math\n",
    "r = int(input(\"enter Radius.:\"))\n",
    "\n",
    "Area = math.pi*r*r\n",
    "\n",
    "print(\"The Area of Circle is \",Area)"
   ]
  },
  {
   "cell_type": "markdown",
   "id": "82284c8c",
   "metadata": {},
   "source": [
    "Explanation: In this Program, to compute Area of Triangle (Area =PI* radius* radius), firstly a user input is taken as radius(r) as it is used to find the area. For the value of “Pi” we have 2 ways either we can assign value of “Pi” as 3.14 or else we can import math function as shown is code. In \" Area \" the formula is written. Then printed the statement with the result."
   ]
  },
  {
   "cell_type": "markdown",
   "id": "ee5e8dbe",
   "metadata": {},
   "source": [
    "#### Que 9. Write a program to calculate net salary of an employee whose basic salary is entered by user, DA is 5% of basic salary, HRA is 7% of basic salary and PF is 3% of basic salary."
   ]
  },
  {
   "cell_type": "code",
   "execution_count": 40,
   "id": "9128c63a",
   "metadata": {},
   "outputs": [
    {
     "name": "stdout",
     "output_type": "stream",
     "text": [
      "Enter your Basic salary.:50000\n",
      "Your Net Salary is 54500.0\n"
     ]
    }
   ],
   "source": [
    "Basic = int(input(\"Enter your Basic salary.:\"))\n",
    "DA = (Basic*.05)\n",
    "HRA = (Basic*.07)\n",
    "PF = (Basic*.03)\n",
    "\n",
    "Net = ((Basic + DA + HRA) - PF)\n",
    "\n",
    "print(\"Your Net Salary is\",Net)"
   ]
  },
  {
   "cell_type": "markdown",
   "id": "2f638aaf",
   "metadata": {},
   "source": [
    "Explanation: In this Program, to calculate net salary. Firstly, a user input is taken as base, \"DA\",\"HRA\",\"PF\" is stored as a basics of different % given in the question. Then in \"Net\" the formula is stored. Then printed the statement with the result. "
   ]
  },
  {
   "cell_type": "markdown",
   "id": "61b8eefc",
   "metadata": {},
   "source": [
    "#### Que 10. Write a program to calculate power of number."
   ]
  },
  {
   "cell_type": "code",
   "execution_count": 2,
   "id": "0e237f54",
   "metadata": {},
   "outputs": [
    {
     "name": "stdout",
     "output_type": "stream",
     "text": [
      "Enter the Base.:2\n",
      "Enter the Exponent.:5\n",
      "The Power of number is 32\n"
     ]
    }
   ],
   "source": [
    "b = int(input(\"Enter the Base.:\"))\n",
    "e = int(input(\"Enter the Exponent.:\"))\n",
    "\n",
    "result = pow(b,e) #--> (b**e)\n",
    "\n",
    "print(\"The Power of number is\",result)"
   ]
  },
  {
   "cell_type": "markdown",
   "id": "de8c9d3b",
   "metadata": {},
   "source": [
    "Explanation: In this Program, to calculate power of number. Firstly, 2 users inputs are taken as base and exponent or power. In result the formula is stored.Then printed the statement with the result."
   ]
  },
  {
   "cell_type": "markdown",
   "id": "b025c484",
   "metadata": {},
   "source": [
    "#### Que 11. Write a program to get the python version you are using."
   ]
  },
  {
   "cell_type": "code",
   "execution_count": 5,
   "id": "cb078d98",
   "metadata": {},
   "outputs": [
    {
     "data": {
      "text/plain": [
       "'3.9.13'"
      ]
     },
     "execution_count": 5,
     "metadata": {},
     "output_type": "execute_result"
    }
   ],
   "source": [
    "from platform import python_version\n",
    "python_version()"
   ]
  },
  {
   "cell_type": "markdown",
   "id": "04fbac50",
   "metadata": {},
   "source": [
    "Explanation: In this Program, to get the python version you are using. A command is used as python_version()."
   ]
  }
 ],
 "metadata": {
  "kernelspec": {
   "display_name": "Python 3 (ipykernel)",
   "language": "python",
   "name": "python3"
  },
  "language_info": {
   "codemirror_mode": {
    "name": "ipython",
    "version": 3
   },
   "file_extension": ".py",
   "mimetype": "text/x-python",
   "name": "python",
   "nbconvert_exporter": "python",
   "pygments_lexer": "ipython3",
   "version": "3.9.13"
  }
 },
 "nbformat": 4,
 "nbformat_minor": 5
}
