{
 "cells": [
  {
   "cell_type": "code",
   "execution_count": 14,
   "id": "55dca4c7",
   "metadata": {},
   "outputs": [
    {
     "name": "stdout",
     "output_type": "stream",
     "text": [
      "Artificial Intelligence Terms\n",
      "AI has become a catchall term for applications that perform complex tasks that once required human input, such as communicating with customers online or playing chess. The term is often used interchangeably with its subfields, which include machine learning (ML) and deep learning.\n",
      "\n",
      "There are differences, however. For example, machine learning is focused on building systems that learn or improve their performance based on the data they consume. Itâ€™s important to note that although all machine learning is AI, not all AI is machine learning.\n",
      "\n",
      "To get the full value from AI, many companies are making significant investments in data science teams. Data science combines statistics, computer science, and business knowledge to extract value from various data sources.\n"
     ]
    }
   ],
   "source": [
    "## my_data.txt Content\n",
    "f = open('my_data.txt','r')\n",
    "print(f.read())\n",
    "f.close()"
   ]
  },
  {
   "cell_type": "markdown",
   "id": "fd2728c5",
   "metadata": {},
   "source": [
    "#### Que1. Write a program to read first 5 characters from the (my_data.txt)."
   ]
  },
  {
   "cell_type": "code",
   "execution_count": 15,
   "id": "f81cc713",
   "metadata": {},
   "outputs": [
    {
     "name": "stdout",
     "output_type": "stream",
     "text": [
      "Artif\n"
     ]
    }
   ],
   "source": [
    "f = open('my_data.txt','r')\n",
    "print(f.read(5))\n"
   ]
  },
  {
   "cell_type": "code",
   "execution_count": 16,
   "id": "b9e2efd1",
   "metadata": {},
   "outputs": [],
   "source": [
    "f.close()"
   ]
  },
  {
   "cell_type": "markdown",
   "id": "fce93286",
   "metadata": {},
   "source": [
    "Explanation: In this program, to read first 5 characters from the (my_data.txt), firstly file is open with read mode. Then to read 5 characters the parameter(5) is pass in read function."
   ]
  },
  {
   "cell_type": "markdown",
   "id": "2c9311e5",
   "metadata": {},
   "source": [
    "#### Que2. Write a program to read first line from the (my_data.txt)."
   ]
  },
  {
   "cell_type": "code",
   "execution_count": 17,
   "id": "6a7fba7f",
   "metadata": {},
   "outputs": [
    {
     "name": "stdout",
     "output_type": "stream",
     "text": [
      "Artificial Intelligence Terms\n",
      "\n"
     ]
    }
   ],
   "source": [
    "f = open('my_data.txt','r')\n",
    "print(f.readline())"
   ]
  },
  {
   "cell_type": "code",
   "execution_count": 18,
   "id": "9ec82d71",
   "metadata": {},
   "outputs": [],
   "source": [
    "f.close()"
   ]
  },
  {
   "cell_type": "markdown",
   "id": "e86a56a7",
   "metadata": {},
   "source": [
    "Explanation: In this program, to read first line from the (my_data.txt), firstly file is open with read mode. Then to read first line readline() function is used. As the cursor is in the beginning of the file, it is displaying the first line of the file.\n",
    "Readline(), reads line by line."
   ]
  },
  {
   "cell_type": "markdown",
   "id": "3019e3e9",
   "metadata": {},
   "source": [
    "#### Que3. Write a program to display number of lines in a files (my_data.txt)."
   ]
  },
  {
   "cell_type": "code",
   "execution_count": 19,
   "id": "745eb1a8",
   "metadata": {},
   "outputs": [
    {
     "name": "stdout",
     "output_type": "stream",
     "text": [
      "Number of lines in a files (my_data.txt) is 6\n"
     ]
    }
   ],
   "source": [
    "f = open(\"my_data.txt\", \"r\")\n",
    "lines = f.readlines()\n",
    "print('Number of lines in a files (my_data.txt) is',len(lines))\n",
    "f.close()"
   ]
  },
  {
   "cell_type": "markdown",
   "id": "b8695e41",
   "metadata": {},
   "source": [
    "Explanation: In this program, to display number of lines in a file (my_data.txt), firstly file is open with read mode. Then readlines() function is used to read the contents of the file and split it into lines and stored in the variable. And then in print statement, to get the lines numbers len method is used."
   ]
  },
  {
   "cell_type": "markdown",
   "id": "8434e695",
   "metadata": {},
   "source": [
    "#### Que4. Write a program to display first line from the file (my_data.txt) using readlines()."
   ]
  },
  {
   "cell_type": "code",
   "execution_count": 20,
   "id": "a0ab7d14",
   "metadata": {},
   "outputs": [
    {
     "data": {
      "text/plain": [
       "['Artificial Intelligence Terms\\n']"
      ]
     },
     "execution_count": 20,
     "metadata": {},
     "output_type": "execute_result"
    }
   ],
   "source": [
    "f = open(\"my_data.txt\", \"r\")\n",
    "f.readlines(1)\n"
   ]
  },
  {
   "cell_type": "code",
   "execution_count": 21,
   "id": "a86937e1",
   "metadata": {},
   "outputs": [],
   "source": [
    "f.close()"
   ]
  },
  {
   "cell_type": "markdown",
   "id": "84493678",
   "metadata": {},
   "source": [
    "Explanation: In this program, to display first line from the file (my_data.txt) using readlines(), firstly file is open with read mode. Then to read first line, the parameter(1) is pass in readlines function."
   ]
  },
  {
   "cell_type": "markdown",
   "id": "a28c17be",
   "metadata": {},
   "source": [
    "#### Que5. Write a program to accept five names from the user and write in the file ‘username.txt’."
   ]
  },
  {
   "cell_type": "code",
   "execution_count": 22,
   "id": "1d639298",
   "metadata": {},
   "outputs": [
    {
     "name": "stdout",
     "output_type": "stream",
     "text": [
      "Enter name: Arjun\n",
      "Enter name: Dhruv\n",
      "Enter name: Madhuri\n",
      "Enter name: Ravi\n",
      "Enter name: Rutvik\n",
      "Arjun\n",
      "Dhruv\n",
      "Madhuri\n",
      "Ravi\n",
      "Rutvik\n",
      "\n"
     ]
    }
   ],
   "source": [
    "f = open(\"username.txt\", \"w\")\n",
    "\n",
    "for i in range(5):\n",
    "    name = input(\"Enter name: \")\n",
    "    f.write(name + \"\\n\")\n",
    "\n",
    "f = open(\"username.txt\", \"r\")\n",
    "print(f.read())\n",
    "\n",
    "f.close()"
   ]
  },
  {
   "cell_type": "markdown",
   "id": "86f2d2e9",
   "metadata": {},
   "source": [
    "Explanation: In this program, firstly, a file is open in write mode, so that we can create the file \"username.txt\". Then to get five names from the user, for loop is used and to write them write function is used with addition of \\n for next line. And then after performing the operation, file is closed. And then, to read the file, read function is used."
   ]
  },
  {
   "cell_type": "markdown",
   "id": "d73bd0d0",
   "metadata": {},
   "source": [
    "#### Que6. Write a program to accept five languages from the user and write in the file ‘language.txt’."
   ]
  },
  {
   "cell_type": "code",
   "execution_count": 23,
   "id": "cd50e12e",
   "metadata": {},
   "outputs": [
    {
     "name": "stdout",
     "output_type": "stream",
     "text": [
      "Enter language: Hindi\n",
      "Enter language: Punjabi\n",
      "Enter language: Tamil\n",
      "Enter language: Marathi\n",
      "Enter language: English\n",
      "Hindi\n",
      "Punjabi\n",
      "Tamil\n",
      "Marathi\n",
      "English\n",
      "\n"
     ]
    }
   ],
   "source": [
    "f = open('language.txt','w')\n",
    "\n",
    "for i in range(5):\n",
    "    language = input('Enter language: ')\n",
    "    f.write(language + '\\n')\n",
    "    \n",
    "f = open('language.txt','r')\n",
    "print(f.read()) \n",
    "\n",
    "f.close()"
   ]
  },
  {
   "cell_type": "markdown",
   "id": "72783c5d",
   "metadata": {},
   "source": [
    "Explanation: In this program, firstly, a file is open in write mode, so that we can create the file \"language.txt\". Then to get five language from the user, for loop is used and to write them write function is used with addition of \\n for next line. And then after performing the operation, file is closed. And then, to read the file, read function is used."
   ]
  },
  {
   "cell_type": "markdown",
   "id": "cda164ae",
   "metadata": {},
   "source": [
    "#### Que7. Write a program to accept five hobbies from the user and write in the file ‘hobbies.txt’. (each hobby should write in a separate line) without using write() function."
   ]
  },
  {
   "cell_type": "code",
   "execution_count": 24,
   "id": "69322ffe",
   "metadata": {},
   "outputs": [
    {
     "name": "stdout",
     "output_type": "stream",
     "text": [
      "Enter hobbies1: Dancing\n",
      "Enter hobbies2: Cooking\n",
      "Enter hobbies3: Singing\n",
      "Enter hobbies4: Reading\n",
      "Enter hobbies5: Travelling\n",
      "Dancing\n",
      "Cooking\n",
      "Singing\n",
      "Reading\n",
      "Travelling\n",
      "\n"
     ]
    }
   ],
   "source": [
    "f = open('hobbies.txt', 'w')\n",
    "hobbies1 = input('Enter hobbies1: ')\n",
    "hobbies2 = input('Enter hobbies2: ')\n",
    "hobbies3 = input('Enter hobbies3: ')\n",
    "hobbies4 = input('Enter hobbies4: ')\n",
    "hobbies5 = input('Enter hobbies5: ')\n",
    "\n",
    "f.writelines(hobbies1 + '\\n')\n",
    "f.writelines(hobbies2 + '\\n')\n",
    "f.writelines(hobbies3 + '\\n')\n",
    "f.writelines(hobbies4 + '\\n')\n",
    "f.writelines(hobbies5 + '\\n')\n",
    "\n",
    "f = open('hobbies.txt', 'r')\n",
    "print(f.read())\n",
    "\n",
    "f.close()"
   ]
  },
  {
   "cell_type": "markdown",
   "id": "8370f0fb",
   "metadata": {},
   "source": [
    "Explanation: In this Program, firstly, the file is created as 'hobbies.txt' with write mode. Then 5 user inputs are taken. Then with the use of writelines function the hobbies are added into the files. And then to read the file, read() function is used."
   ]
  },
  {
   "cell_type": "code",
   "execution_count": 25,
   "id": "cc01613b",
   "metadata": {},
   "outputs": [
    {
     "name": "stdout",
     "output_type": "stream",
     "text": [
      "Enter hobby 1: Dancing\n",
      "Enter hobby 2: Singing\n",
      "Enter hobby 3: Cooking\n",
      "Enter hobby 4: Reading\n",
      "Enter hobby 5: Travelling\n",
      "Dancing\n",
      "Singing\n",
      "Cooking\n",
      "Reading\n",
      "Travelling\n",
      "\n"
     ]
    }
   ],
   "source": [
    "hobbies = []\n",
    "\n",
    "for i in range(5):\n",
    "    hobby = input(f\"Enter hobby {i+1}: \")\n",
    "    f = open('hobbies.txt', 'w')\n",
    "    hobbies.append(hobby)\n",
    "\n",
    "for hobby in hobbies:\n",
    "    f.writelines(hobby + '\\n')\n",
    "\n",
    "f = open('hobbies.txt', 'r')\n",
    "print(f.read())\n",
    "\n",
    "f.close()"
   ]
  },
  {
   "cell_type": "markdown",
   "id": "85468e35",
   "metadata": {},
   "source": [
    "Explanation: In this Program, Firstly, Hobbies is set in a empty list. Then user input is asked using for loop with range 5. And then file is open with write mode, and with the use of append, the hobbies are added into the files. Then 2nd loop is created for taking each hobby into next line. And then finally, file is open in red mode to read the content."
   ]
  },
  {
   "cell_type": "code",
   "execution_count": 26,
   "id": "dec152bc",
   "metadata": {},
   "outputs": [
    {
     "name": "stdout",
     "output_type": "stream",
     "text": [
      "What is an article?\n",
      "Articles (\"a,\" \"an,\" and \"the\") are determiners or noun markers that function to specify if the noun is general or specific in its reference. Often the article chosen depends on if the writer and the reader understand the reference of the noun.\n",
      "The articles \"a\" and \"an\" are indefinite articles. They are used with a singular countable noun when the noun referred to is nonspecific or generic.\n",
      "The article \"the\" is a definite article. It is used to show specific reference and can be used with both singular and plural nouns and with both countable and uncountable nouns.\n",
      "Many languages do not use articles (\"a,\" \"an,\" and \"the\"), or if they do exist, the way they are used may be different than in English. Multilingual writers often find article usage to be one of the most difficult concepts to learn. Although there are some rules about article usage to help, there are also quite a few exceptions. Therefore, learning to use articles accurately takes a long time. To master article usage, it is necessary to do a great deal of reading, notice how articles are used in published texts, and take notes that can apply back to your own writing.\n",
      "\n",
      "\n"
     ]
    }
   ],
   "source": [
    "## article.txt Content\n",
    "\n",
    "f = open('article.txt','r')\n",
    "print(f.read())\n",
    "f.close()"
   ]
  },
  {
   "cell_type": "markdown",
   "id": "c9b97800",
   "metadata": {},
   "source": [
    "#### Que8. Write a program to count the numbers of upper-case alphabet present in the text file “article.txt”. "
   ]
  },
  {
   "cell_type": "code",
   "execution_count": 27,
   "id": "1ee85070",
   "metadata": {},
   "outputs": [
    {
     "name": "stdout",
     "output_type": "stream",
     "text": [
      "The numbers of upper-case alphabet present in the text file “article.txt” is 13\n"
     ]
    }
   ],
   "source": [
    "count = 0\n",
    "\n",
    "f = open('article.txt','r')\n",
    "read = f.read()\n",
    "\n",
    "for i in range(len(read)):\n",
    "    if read [i].isupper():\n",
    "        count+=1\n",
    "\n",
    "print('The numbers of upper-case alphabet present in the text file “article.txt” is',count)\n",
    "\n",
    "f.close()"
   ]
  },
  {
   "cell_type": "markdown",
   "id": "fd5e7ddf",
   "metadata": {},
   "source": [
    "Explanation: In this program, firstly, count is set as 0. File is open with read mode. And then file is read by read function and content is saved in read variable. Loop is set for full article content. And conditions check the upper case in the given article and if it is present in the article, count is added in count. Finally, in print statement, the count of upper case is displayed."
   ]
  },
  {
   "cell_type": "markdown",
   "id": "c262b127",
   "metadata": {},
   "source": [
    "#### Que9. Write a program to count the numbers of lower-case alphabet present in the text file “article.txt”. "
   ]
  },
  {
   "cell_type": "code",
   "execution_count": 28,
   "id": "e75a9d33",
   "metadata": {},
   "outputs": [
    {
     "name": "stdout",
     "output_type": "stream",
     "text": [
      "The numbers of lower-case alphabet present in the text file “article.txt” is 904\n"
     ]
    }
   ],
   "source": [
    "count = 0\n",
    "\n",
    "f = open('article.txt','r')\n",
    "read = f.read()\n",
    "\n",
    "for i in range(len(read)):\n",
    "    if read [i].islower():\n",
    "        count+=1\n",
    "\n",
    "print('The numbers of lower-case alphabet present in the text file “article.txt” is',count)\n",
    "\n",
    "f.close()"
   ]
  },
  {
   "cell_type": "markdown",
   "id": "46ebc4e7",
   "metadata": {},
   "source": [
    "Explanation: In this program, firstly, count is set as 0. File is open with read mode. And then file is read by read function and content is saved in read variable. Loop is set for full article content. And conditions check the lower case in the given article and if it is present in the article, count is added in count. Finally, in print statement, the count of lower case is displayed."
   ]
  },
  {
   "cell_type": "markdown",
   "id": "0d2df53f",
   "metadata": {},
   "source": [
    "#### Que10. Write a program to count the words ‘to’ and ‘the’ present in the text file “article.txt”. "
   ]
  },
  {
   "cell_type": "code",
   "execution_count": 29,
   "id": "2720257f",
   "metadata": {},
   "outputs": [
    {
     "name": "stdout",
     "output_type": "stream",
     "text": [
      "Number of the word ‘to’ present in the text file “article.txt” is 10\n",
      "Number of the word ‘the’ present in the text file “article.txt” is 11\n"
     ]
    }
   ],
   "source": [
    "to_no = 0\n",
    "the_no = 0\n",
    "\n",
    "f = open('article.txt','r')\n",
    "list1 = f.readlines()\n",
    "\n",
    "for i in list1:\n",
    "    word = i.split()\n",
    "    for j in word:\n",
    "        if j == 'to' or j == 'To' or j == 'TO':\n",
    "            to_no+=1\n",
    "        elif j == 'the' or j =='The' or j == 'THE':\n",
    "            the_no +=1\n",
    "            \n",
    "print('Number of the word ‘to’ present in the text file “article.txt” is',to_no)\n",
    "print('Number of the word ‘the’ present in the text file “article.txt” is',the_no)\n",
    "            \n",
    "f.close()    "
   ]
  },
  {
   "cell_type": "markdown",
   "id": "80832f1e",
   "metadata": {},
   "source": [
    "Explanation: In this program, firstly, ‘to’ and ‘the’ are set as 0. File is open with read mode. whole content is saved in variable, list2. In i loop, the words are separated. and then in j loop, the checking is done for \"to\" and \"the\". Finally, the number of \"TO\" and \"THE\" are printed."
   ]
  }
 ],
 "metadata": {
  "kernelspec": {
   "display_name": "Python 3 (ipykernel)",
   "language": "python",
   "name": "python3"
  },
  "language_info": {
   "codemirror_mode": {
    "name": "ipython",
    "version": 3
   },
   "file_extension": ".py",
   "mimetype": "text/x-python",
   "name": "python",
   "nbconvert_exporter": "python",
   "pygments_lexer": "ipython3",
   "version": "3.9.13"
  }
 },
 "nbformat": 4,
 "nbformat_minor": 5
}
