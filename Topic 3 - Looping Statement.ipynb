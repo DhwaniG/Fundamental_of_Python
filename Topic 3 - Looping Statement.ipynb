{
 "cells": [
  {
   "cell_type": "markdown",
   "id": "51a68b1a",
   "metadata": {},
   "source": [
    "#### Que1. Write a program to print “Hello Python” ten times."
   ]
  },
  {
   "cell_type": "code",
   "execution_count": 5,
   "id": "6664fea8",
   "metadata": {},
   "outputs": [
    {
     "name": "stdout",
     "output_type": "stream",
     "text": [
      "1 Hello Python\n",
      "2 Hello Python\n",
      "3 Hello Python\n",
      "4 Hello Python\n",
      "5 Hello Python\n",
      "6 Hello Python\n",
      "7 Hello Python\n",
      "8 Hello Python\n",
      "9 Hello Python\n",
      "10 Hello Python\n"
     ]
    }
   ],
   "source": [
    "i=1  # --> initialization\n",
    "\n",
    "while i<=10: #--> Condition\n",
    "    print(i,'Hello Python') #--> Print Statement\n",
    "    i+=1 # --> Steps of Loops"
   ]
  },
  {
   "cell_type": "code",
   "execution_count": 6,
   "id": "767fa4ee",
   "metadata": {},
   "outputs": [
    {
     "name": "stdout",
     "output_type": "stream",
     "text": [
      "1 Hello Python\n",
      "2 Hello Python\n",
      "3 Hello Python\n",
      "4 Hello Python\n",
      "5 Hello Python\n",
      "6 Hello Python\n",
      "7 Hello Python\n",
      "8 Hello Python\n",
      "9 Hello Python\n",
      "10 Hello Python\n"
     ]
    }
   ],
   "source": [
    "for i in range(1,11): # Range with start and Stop Position.\n",
    "    print(i,\"Hello Python\") # Print Statement"
   ]
  },
  {
   "cell_type": "markdown",
   "id": "dda6f32e",
   "metadata": {},
   "source": [
    "Explanation: In this Program, The Hello is printed with the use of while and for loop. In while loop, the steps are mentioned in the code itself. we have taken the condition as \"i\" should be less than or equals to 10 as we need to print \"Hello\" 10 times. \n",
    "In For Loop, the range is taken as 1(start position) to 11(stop position). The stop position is 11 as we need to print the \"Hello\" 10 times and in range the last position is not included.\n"
   ]
  },
  {
   "cell_type": "markdown",
   "id": "019ef5d2",
   "metadata": {},
   "source": [
    "#### Que2.  Write a program to print number from 1 to 10."
   ]
  },
  {
   "cell_type": "code",
   "execution_count": 19,
   "id": "8b126edb",
   "metadata": {},
   "outputs": [
    {
     "name": "stdout",
     "output_type": "stream",
     "text": [
      "1 , 2 , 3 , 4 , 5 , 6 , 7 , 8 , 9 , 10 , "
     ]
    }
   ],
   "source": [
    "i=1  # --> initialization\n",
    "while i<=10: #--> Condition\n",
    "    print(i,end = \" , \") #--> Print Statement\n",
    "    i+=1  # --> Steps of Loops"
   ]
  },
  {
   "cell_type": "code",
   "execution_count": 20,
   "id": "6eb9ee74",
   "metadata": {},
   "outputs": [
    {
     "name": "stdout",
     "output_type": "stream",
     "text": [
      "1 , 2 , 3 , 4 , 5 , 6 , 7 , 8 , 9 , 10 , "
     ]
    }
   ],
   "source": [
    "for i in range(1,11): # Range with start and Stop Position.\n",
    "    print(i,end = \" , \") # Print Statement"
   ]
  },
  {
   "cell_type": "markdown",
   "id": "56fb5ccb",
   "metadata": {},
   "source": [
    "Explanation: In this Program, The Hello is printed with the use of while and for loop. In while loop, the steps are mentioned in the code itself. we have taken the condition as \"i\" should be less than or equals to 10 as we need to print number from 1 to 10. \n",
    "In For Loop, the range is taken as 1(start position) to 11(stop position). The stop position is 11 as we need to print the numbers from 1 to 10 and in range the last position is not included.\n"
   ]
  },
  {
   "cell_type": "markdown",
   "id": "42398d80",
   "metadata": {},
   "source": [
    "#### Que3.  Write a program to print sum of the first ten numbers."
   ]
  },
  {
   "cell_type": "code",
   "execution_count": 10,
   "id": "c6c33e3f",
   "metadata": {},
   "outputs": [
    {
     "name": "stdout",
     "output_type": "stream",
     "text": [
      "The sum of the first ten numbers is 55\n"
     ]
    }
   ],
   "source": [
    "add=0  \n",
    "i=1\n",
    "while i<=10:\n",
    "    add=add+i\n",
    "    i=i+1\n",
    "\n",
    "print(\"The sum of the first ten numbers is\",add)"
   ]
  },
  {
   "cell_type": "markdown",
   "id": "33db13de",
   "metadata": {},
   "source": [
    "Explanation: In this Program, we need to print the sum of first 10 numbers. So, initially zero is stored in the add. The i starts from 1 and ends at 10. Arithmetic operator (Addition) is used. Inside the loop, it adds each integer to the add variable. Finally, it prints out the addition of the first ten numbers."
   ]
  },
  {
   "cell_type": "markdown",
   "id": "49a9a27e",
   "metadata": {},
   "source": [
    "#### Que4.  Write a program to print n number entered by the user."
   ]
  },
  {
   "cell_type": "code",
   "execution_count": 18,
   "id": "834709c9",
   "metadata": {},
   "outputs": [
    {
     "name": "stdout",
     "output_type": "stream",
     "text": [
      "Enter a number.:5\n",
      "1 , 2 , 3 , 4 , 5 , "
     ]
    }
   ],
   "source": [
    "n = int(input(\"Enter a number.:\"))\n",
    "\n",
    "for i in range(1, n+1):\n",
    "    print(i,end=\" , \")"
   ]
  },
  {
   "cell_type": "markdown",
   "id": "56ba8e86",
   "metadata": {},
   "source": [
    "Explanation: In this program, user input is asked. Then, for loop to iterate over the range from 1 to n+1, printing each number on a separate line using the print() function."
   ]
  },
  {
   "cell_type": "markdown",
   "id": "cd620210",
   "metadata": {},
   "source": [
    "#### Que5.  Write a program to print sum of n numbers."
   ]
  },
  {
   "cell_type": "code",
   "execution_count": 9,
   "id": "681cb433",
   "metadata": {},
   "outputs": [
    {
     "name": "stdout",
     "output_type": "stream",
     "text": [
      "Enter n:10\n",
      "The sum of the 10 integers is: 55\n"
     ]
    }
   ],
   "source": [
    "n = int(input(\"Enter n:\"))\n",
    "add=0\n",
    "i=1\n",
    "while i<=n:\n",
    "    add=add+i\n",
    "    i=i+1\n",
    "print(\"The sum of the\", n, \"integers is:\",add)"
   ]
  },
  {
   "cell_type": "markdown",
   "id": "3b6eed89",
   "metadata": {},
   "source": [
    "Explanation: In this Program, Firstly, User input is asked. Then, initially zero is stored in the add. The i starts from 1 and ends at n. Arithmetic operator (Addition) is used. Inside the loop, it adds each integer to the add variable. Finally, it prints out the addition of the n numbers."
   ]
  },
  {
   "cell_type": "markdown",
   "id": "fc00de4f",
   "metadata": {},
   "source": [
    "#### Que6.  Write a program to print table of the numbers."
   ]
  },
  {
   "cell_type": "code",
   "execution_count": 10,
   "id": "5f667f5c",
   "metadata": {},
   "outputs": [
    {
     "name": "stdout",
     "output_type": "stream",
     "text": [
      "Enter a number: 5\n",
      "5 x 1 = 5\n",
      "5 x 2 = 10\n",
      "5 x 3 = 15\n",
      "5 x 4 = 20\n",
      "5 x 5 = 25\n",
      "5 x 6 = 30\n",
      "5 x 7 = 35\n",
      "5 x 8 = 40\n",
      "5 x 9 = 45\n",
      "5 x 10 = 50\n"
     ]
    }
   ],
   "source": [
    "num = int(input(\"Enter a number: \"))\n",
    "\n",
    "for i in range(1, 11):\n",
    "    print(num, \"x\", i, \"=\", num*i)"
   ]
  },
  {
   "cell_type": "markdown",
   "id": "b07954af",
   "metadata": {},
   "source": [
    "Explanation: In this Program, Firstly, User input is asked. In for loop, the range is set as 1(Start Position) and 11(Last Position). In print statement, Arithmetic operator \"*\" is used to get multiplication of the given number."
   ]
  },
  {
   "cell_type": "markdown",
   "id": "394c6d03",
   "metadata": {},
   "source": [
    "#### Que7.  Write a program to calculate the factorial of the numbers."
   ]
  },
  {
   "cell_type": "code",
   "execution_count": 21,
   "id": "117e5201",
   "metadata": {},
   "outputs": [
    {
     "name": "stdout",
     "output_type": "stream",
     "text": [
      "enter the n for which you want factorial.:5\n",
      "120\n"
     ]
    }
   ],
   "source": [
    "n = int(input(\"enter the n for which you want factorial.:\"))\n",
    "fac = 1\n",
    "while n >= 1:\n",
    "    fac = fac * n\n",
    "    n = n - 1\n",
    "print(fac)"
   ]
  },
  {
   "cell_type": "markdown",
   "id": "4141455a",
   "metadata": {},
   "source": [
    "Explanation: Factorial of a positive integer (number) is the sum of multiplication of all the integers smaller than that positive integer. For example, factorial of 5 is 5 * 4 * 3 * 2 * 1 which equals to 120. \n",
    "In this Program, a user input is asked. Then, While loop starts from 1 to n, multiplying each number with the factorial variable. Finally, it prints out the factorial of n.\n"
   ]
  },
  {
   "cell_type": "markdown",
   "id": "ee26da7d",
   "metadata": {},
   "source": [
    "#### Que8.  Write a program to print even number between 1 to 100."
   ]
  },
  {
   "cell_type": "code",
   "execution_count": 21,
   "id": "a317bc76",
   "metadata": {},
   "outputs": [
    {
     "name": "stdout",
     "output_type": "stream",
     "text": [
      "2 4 6 8 10 12 14 16 18 20 22 24 26 28 30 32 34 36 38 40 42 44 46 48 50 52 54 56 58 60 62 64 66 68 70 72 74 76 78 80 82 84 86 88 90 92 94 96 98 100 "
     ]
    }
   ],
   "source": [
    "i = 2\n",
    "while i<=100:\n",
    "    print(i,end=\" \")\n",
    "    i+=2"
   ]
  },
  {
   "cell_type": "markdown",
   "id": "6192eef0",
   "metadata": {},
   "source": [
    "Explanation: In this program, initializes is set as i to 2, and then while loop is used to repeatedly print the value of i and increment it by 2 until it reaches 100.And print Function is used to print value of i after each iteration."
   ]
  },
  {
   "cell_type": "markdown",
   "id": "42764558",
   "metadata": {},
   "source": [
    "#### Que9.  Write a program to print odd number between 1 to 100."
   ]
  },
  {
   "cell_type": "code",
   "execution_count": 22,
   "id": "29ce16c7",
   "metadata": {},
   "outputs": [
    {
     "name": "stdout",
     "output_type": "stream",
     "text": [
      "1 3 5 7 9 11 13 15 17 19 21 23 25 27 29 31 33 35 37 39 41 43 45 47 49 51 53 55 57 59 61 63 65 67 69 71 73 75 77 79 81 83 85 87 89 91 93 95 97 99 "
     ]
    }
   ],
   "source": [
    "i = 1\n",
    "while i<=100:\n",
    "    print(i,end=\" \")\n",
    "    i+=2"
   ]
  },
  {
   "cell_type": "markdown",
   "id": "0f0b49f7",
   "metadata": {},
   "source": [
    "Explanation: In this program, initializes is set as i to 1, and then while loop is used to repeatedly print the value of i and increment it by 2 until it reaches 100.And print Function is used to print value of i after each iteration."
   ]
  },
  {
   "cell_type": "markdown",
   "id": "0707d187",
   "metadata": {},
   "source": [
    "#### Que10.  Write a program to check whether a given number is palindrome or not."
   ]
  },
  {
   "cell_type": "code",
   "execution_count": 24,
   "id": "eb024977",
   "metadata": {},
   "outputs": [
    {
     "name": "stdout",
     "output_type": "stream",
     "text": [
      "Enter a number.:525\n",
      "The given number is Palindrome.\n"
     ]
    }
   ],
   "source": [
    "i = int(input(\"Enter a number.:\"))\n",
    "rev = 0\n",
    "x = i # x stores the value of i as after the reverse is happened, the i value will reduced to 0.\n",
    "\n",
    "while i > 0:\n",
    "    rev = (rev*10) + (i%10)   # rev = (0*10) + (525%10) == (0 + 5) ==  5\n",
    "    i= i//10  # i = 525/10 = 52.2 and using // it ignores the decimal part that's why i = 52\n",
    "if x == rev:\n",
    "    print(\"The given number is Palindrome.\")\n",
    "else:\n",
    "    print(\"The given number is not Palindrome.\")"
   ]
  },
  {
   "cell_type": "markdown",
   "id": "3a7db489",
   "metadata": {},
   "source": [
    "Explanation: A palindrome is a word, number, phrase, or other sequence of symbols that reads the same backwards as forwards, such as madam or racecar, the date and time 12/21/33 12:21, and the sentence: \"A man, a plan, a canal – Panama\". To know whether the given number is Palindrome or not, first, we need to reverse the number. and after that if the reversed value is equals to the original value than the given number is Palindrome. Here, we have stored \"i\" into \"x\" as in reverse logic the i value becomes \"0\" in the end so after the reversed operation is done i becomes \"0\" and then there will be no original value stored in n as it becomes 0. So to compare the reverse value with original value we have used x which stores the original value.The // operator is used for integer division, and the % operator is used to get the remainder when the number is divided by 10."
   ]
  },
  {
   "cell_type": "markdown",
   "id": "40c0ccaf",
   "metadata": {},
   "source": [
    "#### Que11.  Write a program to find factors of the numbers."
   ]
  },
  {
   "cell_type": "code",
   "execution_count": 28,
   "id": "e2ad1848",
   "metadata": {},
   "outputs": [
    {
     "name": "stdout",
     "output_type": "stream",
     "text": [
      "Enter a number.:12\n",
      "The factors of given number is  1\n",
      "The factors of given number is  2\n",
      "The factors of given number is  3\n",
      "The factors of given number is  4\n",
      "The factors of given number is  6\n",
      "The factors of given number is  12\n"
     ]
    }
   ],
   "source": [
    "## Factors of a number.\n",
    "\n",
    "num = int(input(\"Enter a number.:\"))\n",
    "\n",
    "for i in range(1, num+1):\n",
    "    if num % i == 0:\n",
    "        print(\"The factors of given number is \",i)"
   ]
  },
  {
   "cell_type": "markdown",
   "id": "5418ead9",
   "metadata": {},
   "source": [
    "Explanation: A factor is a number that divides another number, leaving no remainder. The range starts with 1 and stop is increment by 1 as we are taking user input. the \"if\" conditions say, if the entered number is divisible by i and gives \"0\" as a remainder, the entered number will have factors and it is printed in print statement. In this program, Firstly User input is asked. Then, for loop is used Which starts from 1 to n, checking whether each number is a factor of n by using the modulus operator %. If the remainder is zero, then the number is a factor of n and then it is printed."
   ]
  },
  {
   "cell_type": "markdown",
   "id": "638c8b32",
   "metadata": {},
   "source": [
    "#### Que12.  Write a program to print the reverse of the number."
   ]
  },
  {
   "cell_type": "code",
   "execution_count": 21,
   "id": "f81bd87f",
   "metadata": {},
   "outputs": [
    {
     "name": "stdout",
     "output_type": "stream",
     "text": [
      "Enter a number.:287\n",
      "Reverse of a given number is 782\n"
     ]
    }
   ],
   "source": [
    "## Reverse of the number\n",
    "\n",
    "i = int(input(\"Enter a number.:\"))\n",
    "rev = 0\n",
    "\n",
    "while i > 0:\n",
    "    rev = (rev*10) + (i%10)   # rev = (0*10) + (287%10) == (0 + 7) ==  7\n",
    "    i= i//10                  # i = 287/10 = 28.7 and using // it ignores the decimal part that's why i = 28\n",
    "print(\"Reverse of a given number is\",rev)"
   ]
  },
  {
   "cell_type": "markdown",
   "id": "87ced647",
   "metadata": {},
   "source": [
    "Explanation: In this program, \"i\" stores the user input, reverse is stored as \"0\" initially. The condition says i should be greater than 0. Reverse formula is explained in code itself. Finally, print function is used to print the result."
   ]
  },
  {
   "cell_type": "markdown",
   "id": "b4d97e5e",
   "metadata": {},
   "source": [
    "#### Que13.  Write a program to print the sum of a reverse of a number."
   ]
  },
  {
   "cell_type": "code",
   "execution_count": 15,
   "id": "73506476",
   "metadata": {},
   "outputs": [
    {
     "name": "stdout",
     "output_type": "stream",
     "text": [
      "Enter a number.:123\n",
      "Reverse of a given number is 321\n",
      "The sum of a reverse of a number is 444\n"
     ]
    }
   ],
   "source": [
    "i = int(input(\"Enter a number.:\"))\n",
    "\n",
    "## Calculate the Reverse of the number\n",
    "rev = 0\n",
    "x = i\n",
    "while i > 0:\n",
    "    rev = (rev*10) + (i%10)   # rev = (0*10) + (287%10) == (0 + 7) ==  7\n",
    "    i= i//10                  # i = 287/10 = 28.7 and using // it ignores the decimal part that's why i = 28\n",
    "print(\"Reverse of a given number is\",rev)\n",
    "\n",
    "## Calculate the sum of the number and the reverse of the number,\n",
    "sum = x + rev\n",
    "\n",
    "print(\"The sum of a reverse of a number is\",sum)\n"
   ]
  },
  {
   "cell_type": "markdown",
   "id": "259db18f",
   "metadata": {},
   "source": [
    "Explanation: In this program, First we need to calculate the reverse of the number and then we need to add the number and the reverse of the number. So \"i\" stores the user input, reverse is stored as \"0\" initially. The condition says i should be greater than 0. Reverse formula is explained in code itself. Finally, print function is used to print the result. After calculating the reverse, the program calculates the sum of the original number and its reverse, and stores the result in a variable called sum. Finally, it prints the sum of the number and its reverse."
   ]
  },
  {
   "cell_type": "markdown",
   "id": "af2d2384",
   "metadata": {},
   "source": [
    "#### Que14.  Write a program to check whether a given number is prime or not."
   ]
  },
  {
   "cell_type": "code",
   "execution_count": 4,
   "id": "4370c1f2",
   "metadata": {},
   "outputs": [
    {
     "name": "stdout",
     "output_type": "stream",
     "text": [
      "Enter a Number.:13\n",
      " The Given number is Prime.\n"
     ]
    }
   ],
   "source": [
    "n = int(input(\"Enter a Number.:\"))\n",
    "count = 0\n",
    "i = 1\n",
    "while i<=n:\n",
    "    if n%i==0:\n",
    "        count+=1\n",
    "    i+=1    \n",
    "if count == 2:\n",
    "    print(\" The Given number is Prime.\")\n",
    "else:\n",
    "    print(\" The Given number is not Prime.\")"
   ]
  },
  {
   "cell_type": "markdown",
   "id": "05196a8d",
   "metadata": {},
   "source": [
    "Explanation: A whole number greater than 1 that cannot be exactly divided by any whole number other than itself and 1 (e.g. 2, 3, 5, 7, 11). Prime Numbers always have only 2 Factors. \n",
    "\n",
    "In this program, user input is asked. \"Count\" is set as zero and \"i\" is set as 1. while loop is used, it run from the 1 to the given number. And also checks whether the number of factorials is equal to 2 or not. if else condition is also used. if the count is equals to 2, the given number is prime and if not then the given number is not prime."
   ]
  },
  {
   "cell_type": "markdown",
   "id": "3395a859",
   "metadata": {},
   "source": [
    "#### Que15.  Write a program to print prime number between 1 to 100."
   ]
  },
  {
   "cell_type": "code",
   "execution_count": 1,
   "id": "52d459ce",
   "metadata": {},
   "outputs": [
    {
     "name": "stdout",
     "output_type": "stream",
     "text": [
      "1 2 3 5 7 11 13 17 19 23 29 31 37 41 43 47 53 59 61 67 71 73 79 83 89 97 "
     ]
    }
   ],
   "source": [
    "n = 1\n",
    "while n<=100:\n",
    "    i = 2\n",
    "    while i<=n//2:\n",
    "        if n%i ==0:\n",
    "            break\n",
    "        i+=1\n",
    "    if i>n//2:\n",
    "        print(n,end = \" \")\n",
    "    n+=1"
   ]
  },
  {
   "cell_type": "markdown",
   "id": "c214bdc9",
   "metadata": {},
   "source": [
    "In this program, “n” starts with 1 and ends at 100. \"i\" is set as 2.After that the condition is checked, where \"i\" should be less than or equals to \"n//2\". Inside the loop, it is checking for whether the given input is fulling divisible by i or not. Now we have broken the loop, and it will start away go to the if condition which says i should be greater than n//2 then it will print the numbers else it will not print the numbers."
   ]
  },
  {
   "cell_type": "markdown",
   "id": "5c9c3a07",
   "metadata": {},
   "source": [
    "#### Que16.  Write a program to print number in reverse order entered by the user."
   ]
  },
  {
   "cell_type": "code",
   "execution_count": 16,
   "id": "10f3094e",
   "metadata": {},
   "outputs": [
    {
     "name": "stdout",
     "output_type": "stream",
     "text": [
      "Enter a number.:123\n",
      "Reverse of a given number is 321\n"
     ]
    }
   ],
   "source": [
    "## Reverse of the number\n",
    "\n",
    "i = int(input(\"Enter a number.:\"))\n",
    "rev = 0\n",
    "\n",
    "while i > 0:\n",
    "    rev = (rev*10) + (i%10)   # rev = (0*10) + (287%10) == (0 + 7) ==  7\n",
    "    i= i//10                  # i = 287/10 = 28.7 and using // it ignores the decimal part that's why i = 28\n",
    "print(\"Reverse of a given number is\",rev)"
   ]
  },
  {
   "cell_type": "markdown",
   "id": "c3ed0e56",
   "metadata": {},
   "source": [
    "Explanation: In this program, \"i\" stores the user input, reverse is stored as \"0\" initially. The condition says i should be greater than 0. Reverse formula is explained in code itself. Finally, print function is used to print the result."
   ]
  },
  {
   "cell_type": "markdown",
   "id": "17432694",
   "metadata": {},
   "source": [
    "#### Que17.  Write a program to print the cube of all the numbers from 1 to the given number."
   ]
  },
  {
   "cell_type": "code",
   "execution_count": 1,
   "id": "709f1ca6",
   "metadata": {},
   "outputs": [
    {
     "name": "stdout",
     "output_type": "stream",
     "text": [
      "Enter a number: 3\n",
      "Cube of numbers from 1 to 3\n",
      "1 cube is 1\n",
      "2 cube is 8\n",
      "3 cube is 27\n"
     ]
    }
   ],
   "source": [
    "n = int(input(\"Enter a number: \"))\n",
    "\n",
    "# iterate from 1 to n and print the cube of each number\n",
    "print(\"Cube of numbers from 1 to\", n)\n",
    "for num in range(1, n+1):\n",
    "    cube = num**3\n",
    "    print(num, \"cube is\", cube)"
   ]
  },
  {
   "cell_type": "markdown",
   "id": "4c0f27fc",
   "metadata": {},
   "source": [
    "In this program, the user first enters a number, which is stored in the variable n. We then use a for loop to iterate from 1 to n, and print the cube of each number. Inside the loop, we calculate the cube of the current number using the exponent operator ** and store it in the variable cube. We then use the print() function to output the number and its cube. Finally, the program uses the print() function to output the list of cubes of all the numbers from 1 to the given number."
   ]
  },
  {
   "cell_type": "markdown",
   "id": "e6209b44",
   "metadata": {},
   "source": [
    "#### Que18.  Write a program to count the total numbers of digits in a number."
   ]
  },
  {
   "cell_type": "code",
   "execution_count": 11,
   "id": "ae71a8c7",
   "metadata": {},
   "outputs": [
    {
     "name": "stdout",
     "output_type": "stream",
     "text": [
      "Enter A Number.:12345\n",
      "Total numbers of digits in this number is  5\n"
     ]
    }
   ],
   "source": [
    "n = int(input(\"Enter A Number.:\"))\n",
    "count = 0\n",
    "while n>0:\n",
    "    n=n//10 ## To get updated value in each iteration.\n",
    "    ## working: 12345 ==> 1234 ==>123 ==> 12==> 1 ==> 0 ,Runs until the value becomes 0.\n",
    "    count = count + 1\n",
    "print(\"Total numbers of digits in this number is \",count)"
   ]
  },
  {
   "cell_type": "markdown",
   "id": "892080dd",
   "metadata": {},
   "source": [
    "In this program, firstly, a user input is asked and then count is set as zero initially. Then while loop is used to count the number of digits in the number, by repeatedly dividing the number by 10 and incrementing the count by 1 for each digit. The loop continues until the number becomes zero. Print statement is used to print the count."
   ]
  },
  {
   "cell_type": "markdown",
   "id": "10830964",
   "metadata": {},
   "source": [
    "#### Que19.  Write a program to print Fibonacci series."
   ]
  },
  {
   "cell_type": "code",
   "execution_count": 8,
   "id": "237835b2",
   "metadata": {},
   "outputs": [
    {
     "name": "stdout",
     "output_type": "stream",
     "text": [
      "Enter a Number.:10\n",
      "0\n",
      "1\n",
      "1\n",
      "2\n",
      "3\n",
      "5\n",
      "8\n"
     ]
    }
   ],
   "source": [
    "n = int(input(\"Enter a Number.:\"))\n",
    "x=0\n",
    "y=1\n",
    "z=0\n",
    "while z<=n: # z = 0 as we have set the value 0 in z, so condition is true.\n",
    "    print(z)  #print z as 0\n",
    "    x=y  # x=y i.e x=1 as y is set as 1.\n",
    "    y=z  # y = z i.e y = 0.\n",
    "    z=x+y\n",
    "## z = 1 + 0 = 1. as it is loop, it will go the condition statement and this will be done until the conditions become false.\n"
   ]
  },
  {
   "cell_type": "markdown",
   "id": "470f185b",
   "metadata": {},
   "source": [
    "Explanation: The Fibonacci series is a sequence of numbers in which each number after the first two is the sum of the two preceding ones. The first two numbers in the series are typically defined as either 0 and 1 or 1 and 1, depending on the context. The sequence goes like this: 0, 1, 1, 2, 3, 5, 8, 13, 21, 34, and so on. In this program, Swap is used. The whole mechanism is explained the code itself."
   ]
  },
  {
   "cell_type": "markdown",
   "id": "44228ff8",
   "metadata": {},
   "source": [
    "#### Que20.  Write a program to check whether a given number is Armstrong number or not."
   ]
  },
  {
   "cell_type": "code",
   "execution_count": 3,
   "id": "6eec1d70",
   "metadata": {},
   "outputs": [
    {
     "name": "stdout",
     "output_type": "stream",
     "text": [
      "Enter a Number.:153\n",
      "A given number is Armstrong number.\n"
     ]
    }
   ],
   "source": [
    "n = int(input(\"Enter a Number.:\"))\n",
    "i = n\n",
    "count = 0\n",
    "while i > 0:  ## This will count the value of Number.\n",
    "        count = count + 1\n",
    "        i = i//10\n",
    "sum = 0        \n",
    "i = n\n",
    "while i > 0:  ## This will set the digit.\n",
    "    digit = i % 10\n",
    "    x = 1\n",
    "    product = 1\n",
    "    while x <= count:  ## This loop is used to get the product.\n",
    "        product = product * digit\n",
    "        x = x + 1\n",
    "    sum = sum + product\n",
    "    i = i // 10\n",
    "if sum == n:\n",
    "    print(\"A given number is Armstrong number.\")\n",
    "else:\n",
    "    print(\"A given number is Not Armstrong number.\")\n",
    "        \n",
    "            "
   ]
  },
  {
   "cell_type": "markdown",
   "id": "ef508b33",
   "metadata": {},
   "source": [
    "Explanation: An Armstrong number is a number that is equal to the sum of its own digits raised to the power of the number of digits. For example, 153 is an Armstrong number because it has three digits and it can be written as 1^3 + 5^3 + 3^3 = 1 + 125 + 27 = 153.\n",
    "\n",
    "In this Program, Firstly, user input is asked which is stored in \"n\". Then we need to set a variable as I, we store the n value, as \"n\" is going to become zero. Then we need to first find the count of number of digits as to know the product number. Then we need to calculate the digit and then multiplication is also done. Product is set as 1 as there is no difference in multiplying the number with 1. Then Addition is done. Sum is set as zero initially. Then if else condition is used. Condition says if the sum is equals to original value then the given number is Armstrong number and if not, it is not a Armstrong number.\n"
   ]
  },
  {
   "cell_type": "markdown",
   "id": "9806cf42",
   "metadata": {},
   "source": [
    "#### Que21.  Write a program to check whether a given number is strong  number or not."
   ]
  },
  {
   "cell_type": "code",
   "execution_count": 20,
   "id": "f8382bd6",
   "metadata": {},
   "outputs": [
    {
     "name": "stdout",
     "output_type": "stream",
     "text": [
      "Enter a Number.:145\n",
      "A given number is Strong number. \n"
     ]
    }
   ],
   "source": [
    "num = input(\"Enter a Number.:\")\n",
    "add = 0\n",
    "\n",
    "for i in num:  # This loop will separate the numbers as 1,4,5.\n",
    "    i = int(i) # convert the string into integer.\n",
    "    fact = 1\n",
    "    for j in range(1,i+1): # This loop will calculate the factorial and Add the Numbers.\n",
    "        fact = fact * j \n",
    "    add = add + fact\n",
    "if add == int(num):\n",
    "    print(\"A given number is Strong number. \")\n",
    "else:\n",
    "    print(\"A given number is not Strong number. \")"
   ]
  },
  {
   "cell_type": "markdown",
   "id": "6e9813fe",
   "metadata": {},
   "source": [
    "Explanation: A strong number is a number that is equal to the sum of the factorial of its digits. For example, 145 is a strong number because 1! + 4! + 5! = 1 + 24 + 120 = 145.\n",
    "\n",
    "In this Program, firstly user input is asked in string and stored in num. Add is set as zero initially. Firstly, we need to separate the number from each other, that’s why the input is taken into string. Later for calculations we have converted the string to integer. Then second loop is for calculating the factorial of number and then the addition of factorial is also done in same loop. If else condition is used. If the added value is equals to the original value, then the given number is strong number and else it is not a strong number. Here, in condition the “num” is converted into integer as the string value is always not equals to the integer.\n"
   ]
  },
  {
   "cell_type": "markdown",
   "id": "f4702626",
   "metadata": {},
   "source": [
    "#### Que22.  Write a program to check whether a given number is perfect number or not."
   ]
  },
  {
   "cell_type": "code",
   "execution_count": 4,
   "id": "4152b5d7",
   "metadata": {},
   "outputs": [
    {
     "name": "stdout",
     "output_type": "stream",
     "text": [
      "Enter a Number.:6\n",
      "6 is a Perfect Number.\n"
     ]
    }
   ],
   "source": [
    "num = int(input(\"Enter a Number.:\"))\n",
    "res = 0\n",
    "\n",
    "for i in range(1,num):\n",
    "    if num%i == 0: \n",
    "        res=res+i\n",
    "if res == num:\n",
    "    print(num, \"is a Perfect Number.\")\n",
    "else:\n",
    "    print(num,\"is not a Perfect Number.\")\n",
    "    "
   ]
  },
  {
   "cell_type": "markdown",
   "id": "3d90864a",
   "metadata": {},
   "source": [
    "Explanation:A perfect number is a positive integer that is equal to the sum of its proper divisors (excluding the number itself). For example, the number 6 is a perfect number because its proper divisors (excluding itself) are 1, 2, and 3, and their sum is equal to 6. Similarly, the number 28 is a perfect number because its proper divisors are 1, 2, 4, 7, and 14, and their sum is equal to 28.\n",
    "\n",
    "In this program, firstly user input is asked and stored in num. Result is set as zero initially. Then loops starts from 1 to num//2, checking if i is a divisor of num using the modulo operator. If i is a divisor of num, it adds i to the sum. Then if else condition is used. Condition says if result is equals to original number, then the given number is  perfect number else it is not a  perfect number."
   ]
  },
  {
   "cell_type": "markdown",
   "id": "ddad1f8f",
   "metadata": {},
   "source": [
    "#### Que 23. Write a program to find those numbers which are divisible by 7 and multiple of 5, between 1000 to 2000."
   ]
  },
  {
   "cell_type": "code",
   "execution_count": 2,
   "id": "8b92d5fb",
   "metadata": {},
   "outputs": [
    {
     "name": "stdout",
     "output_type": "stream",
     "text": [
      "Numbers divisible by 7 and multiple of 5 between 1000 and 2000:\n",
      "1015\n",
      "1050\n",
      "1085\n",
      "1120\n",
      "1155\n",
      "1190\n",
      "1225\n",
      "1260\n",
      "1295\n",
      "1330\n",
      "1365\n",
      "1400\n",
      "1435\n",
      "1470\n",
      "1505\n",
      "1540\n",
      "1575\n",
      "1610\n",
      "1645\n",
      "1680\n",
      "1715\n",
      "1750\n",
      "1785\n",
      "1820\n",
      "1855\n",
      "1890\n",
      "1925\n",
      "1960\n",
      "1995\n"
     ]
    }
   ],
   "source": [
    "# iterate from 1000 to 2000 and print the numbers that satisfy the condition\n",
    "print(\"Numbers divisible by 7 and multiple of 5 between 1000 and 2000:\")\n",
    "for num in range(1000, 2001):\n",
    "    if num % 7 == 0 and num % 5 == 0:\n",
    "        print(num)"
   ]
  },
  {
   "cell_type": "markdown",
   "id": "45aa930f",
   "metadata": {},
   "source": [
    "In this program, for loop is used, which starts from 1000 to 2000 and print the numbers that are divisible by 7 and multiple of 5. Inside the loop, we use an if statement to check if the current number satisfies both conditions. We use the modulus operator % to check if the number is divisible by 7 and 5. Print is used to print the numbers from 1000 to 2000 which are divisible by 7 and 5."
   ]
  },
  {
   "cell_type": "markdown",
   "id": "992ea8f2",
   "metadata": {},
   "source": [
    "#### Que 24. Write a program to print the following Number patterns using a loop."
   ]
  },
  {
   "cell_type": "code",
   "execution_count": 80,
   "id": "abbacc1a",
   "metadata": {},
   "outputs": [
    {
     "name": "stdout",
     "output_type": "stream",
     "text": [
      "Enter the Numbers of rows.:5\n",
      "1 \n",
      "1 2 \n",
      "1 2 3 \n",
      "1 2 3 4 \n",
      "1 2 3 4 5 \n"
     ]
    }
   ],
   "source": [
    "## a. Number Pattern 1\n",
    "\n",
    "n = int(input(\"Enter the Numbers of rows.:\")) # Ask user input for rows.\n",
    "\n",
    "for i in range(n): # 'i' indicates the Rows.\n",
    "    for j in range(i+1): # 'j' indicates the Columns.\n",
    "        print(j+1,end = \" \")\n",
    "    print() # For Next Line"
   ]
  },
  {
   "cell_type": "code",
   "execution_count": 81,
   "id": "22cac143",
   "metadata": {},
   "outputs": [
    {
     "name": "stdout",
     "output_type": "stream",
     "text": [
      "Enter the Numbers of rows.:5\n",
      "1 \n",
      "2 2 \n",
      "3 3 3 \n",
      "4 4 4 4 \n",
      "5 5 5 5 5 \n"
     ]
    }
   ],
   "source": [
    "## b. Number Pattern 2\n",
    "\n",
    "n = int(input(\"Enter the Numbers of rows.:\")) # Ask user input for rows.\n",
    "\n",
    "for i in range(n): # 'i' indicates the Rows.\n",
    "    for j in range(i,-1,-1): # 'j' indicates the Columns.\n",
    "        print(i+1,end = \" \")\n",
    "    print() # For Next Line"
   ]
  },
  {
   "cell_type": "code",
   "execution_count": 16,
   "id": "0a88c474",
   "metadata": {},
   "outputs": [
    {
     "name": "stdout",
     "output_type": "stream",
     "text": [
      "Enter the Numbers of rows.:5\n",
      "5 4 3 2 1 \n",
      "5 4 3 2 \n",
      "5 4 3 \n",
      "5 4 \n",
      "5 \n"
     ]
    }
   ],
   "source": [
    "## c. Number Pattern 3\n",
    "\n",
    "n = int(input(\"Enter the Numbers of rows.:\")) # Ask user input for rows.\n",
    "\n",
    "for i in range(n): # 'i' indicates the Rows.\n",
    "    for j in range(n-i): # 'j' indicates the Columns.\n",
    "        print(n-j,end = \" \")\n",
    "    print() # For Next Line"
   ]
  },
  {
   "cell_type": "code",
   "execution_count": 25,
   "id": "bf39570a",
   "metadata": {},
   "outputs": [
    {
     "name": "stdout",
     "output_type": "stream",
     "text": [
      "Enter the Numbers of rows.:5\n",
      "1 2 3 4 5 \n",
      "1 2 3 4 \n",
      "1 2 3 \n",
      "1 2 \n",
      "1 \n"
     ]
    }
   ],
   "source": [
    "## d. Number Pattern 4\n",
    "\n",
    "n = int(input(\"Enter the Numbers of rows.:\")) # Ask user input for rows.\n",
    "for i in range(n, 0, -1):\n",
    "    for j in range(1, i+1):\n",
    "        print(j, end=\" \")\n",
    "    print()"
   ]
  },
  {
   "cell_type": "code",
   "execution_count": 23,
   "id": "8dfe34a6",
   "metadata": {},
   "outputs": [
    {
     "name": "stdout",
     "output_type": "stream",
     "text": [
      "Enter the Numbers of rows.:5\n",
      "5 4 3 2 1 \n",
      "4 3 2 1 \n",
      "3 2 1 \n",
      "2 1 \n",
      "1 \n"
     ]
    }
   ],
   "source": [
    "## e. Number Pattern 5\n",
    "\n",
    "n = int(input(\"Enter the Numbers of rows.:\")) # Ask user input for rows.\n",
    "for i in range(n,0,-1):\n",
    "    for j in range(i,0,-1):\n",
    "        print(j, end=\" \")\n",
    "    print()"
   ]
  },
  {
   "cell_type": "markdown",
   "id": "3b2b932f",
   "metadata": {},
   "source": [
    "#### Que 25. Write a program to print the following star patterns using a loop."
   ]
  },
  {
   "cell_type": "code",
   "execution_count": 68,
   "id": "1da5b5b1",
   "metadata": {},
   "outputs": [
    {
     "name": "stdout",
     "output_type": "stream",
     "text": [
      "Enter the Numbers of rows.:5\n",
      "      * \n",
      "      * * \n",
      "      * * * \n",
      "      * * * * \n",
      "      * * * * * \n"
     ]
    }
   ],
   "source": [
    "## a. Right Half-Pyramid Pattern Program\n",
    "\n",
    "num = int(input(\"Enter the Numbers of rows.:\")) # Ask user input for rows.\n",
    "\n",
    "for i in range(num):\n",
    "    for j in range(num-1-1):\n",
    "        print(\" \",end=\" \")\n",
    "    for j in range(i+1):\n",
    "        print(\"*\",end=\" \")\n",
    "    print()\n",
    "        "
   ]
  },
  {
   "cell_type": "code",
   "execution_count": 70,
   "id": "f513e07e",
   "metadata": {},
   "outputs": [
    {
     "name": "stdout",
     "output_type": "stream",
     "text": [
      "Enter the Numbers of Rows.:6\n",
      "Enter the Number of Columns.:5\n",
      "* * * * * \n",
      "* * * * * \n",
      "* * * * * \n",
      "* * * * * \n",
      "* * * * * \n",
      "* * * * * \n"
     ]
    }
   ],
   "source": [
    "## b. Rectangle Shape\n",
    "\n",
    "r = int(input(\"Enter the Numbers of Rows.:\"))\n",
    "c = int(input(\"Enter the Number of Columns.:\"))\n",
    "\n",
    "for i in range(r):\n",
    "    for j in range(c):\n",
    "        print(\"*\",end = \" \")\n",
    "    print()\n"
   ]
  },
  {
   "cell_type": "code",
   "execution_count": 55,
   "id": "9077a025",
   "metadata": {},
   "outputs": [
    {
     "name": "stdout",
     "output_type": "stream",
     "text": [
      "Enter the Numbers of rows.:5\n",
      "* * * * * \n",
      "* * * * \n",
      "* * * \n",
      "* * \n",
      "* \n"
     ]
    }
   ],
   "source": [
    "## c. Downward Half-Pyramid Pattern Program\n",
    "num = int(input(\"Enter the Numbers of rows.:\")) # Ask user input for rows.\n",
    "\n",
    "for i in range(num,0,-1): # 'i' indicates the Rows. \n",
    "    for j in range(0,i): # 'j' indicates the Columns.\n",
    "        print(\"*\",end = \" \") # This will print * and end is used for not adding a new line.\n",
    "    print()"
   ]
  },
  {
   "cell_type": "code",
   "execution_count": 63,
   "id": "4b7dd0ff",
   "metadata": {},
   "outputs": [
    {
     "name": "stdout",
     "output_type": "stream",
     "text": [
      "Enter the Numbers of rows.:5\n",
      "* * * * * \n",
      "  * * * * \n",
      "    * * * \n",
      "      * * \n",
      "        * \n"
     ]
    }
   ],
   "source": [
    "## d. Downward Half-Pyramid Pattern Program\n",
    "\n",
    "num = int(input(\"Enter the Numbers of rows.:\")) # Ask user input for rows.\n",
    "\n",
    "for i in range(1,num+1): # 'i' indicates the Rows. \n",
    "    for j in range(1,num+1): # 'j' indicates the Columns.\n",
    "        if j >= i:\n",
    "            print(\"*\",end = \" \") # To print \"*\"\n",
    "        else:\n",
    "            print(\" \",end = \" \") # To Give a space.\n",
    "    print()"
   ]
  },
  {
   "cell_type": "code",
   "execution_count": 78,
   "id": "9d6ba53e",
   "metadata": {},
   "outputs": [
    {
     "name": "stdout",
     "output_type": "stream",
     "text": [
      "Enter the Numbers of rows.:6\n",
      "          * \n",
      "        * * \n",
      "      * * * \n",
      "    * * * * \n",
      "  * * * * * \n",
      "* * * * * * \n"
     ]
    }
   ],
   "source": [
    "## e. Left Half-Pyramid Pattern Program\n",
    "\n",
    "num = int(input(\"Enter the Numbers of rows.:\")) # Ask user input for rows.\n",
    "\n",
    "for i in range(1,num+1):\n",
    "    for j in range(1,num+1):\n",
    "        if j<=n-i:\n",
    "            print(\" \", end=\" \")\n",
    "        else:\n",
    "            print(\"*\", end=\" \")\n",
    "    print()"
   ]
  },
  {
   "cell_type": "markdown",
   "id": "d6c2b3fd",
   "metadata": {},
   "source": [
    "#### Que 26. Write a program to print the following alphabet patterns using a loop."
   ]
  },
  {
   "cell_type": "code",
   "execution_count": 101,
   "id": "f8a334ea",
   "metadata": {},
   "outputs": [
    {
     "name": "stdout",
     "output_type": "stream",
     "text": [
      "Enter the Numbers of rows.:5\n",
      "A \n",
      "A B \n",
      "A B C \n",
      "A B C D \n",
      "A B C D E \n"
     ]
    }
   ],
   "source": [
    "## a. Alphabet pattern 1\n",
    "\n",
    "n = int(input(\"Enter the Numbers of rows.:\")) # Ask user input for rows.\n",
    "for i in range(1, n+1):\n",
    "    for j in range(i):\n",
    "        print(chr(65+j), end=\" \")\n",
    "    print()"
   ]
  },
  {
   "cell_type": "code",
   "execution_count": 109,
   "id": "0df1d0e2",
   "metadata": {},
   "outputs": [
    {
     "name": "stdout",
     "output_type": "stream",
     "text": [
      "Enter the Numbers of rows.:4\n",
      "A \n",
      "B B \n",
      "C C C \n",
      "D D D D \n",
      "E E E E E \n"
     ]
    }
   ],
   "source": [
    "## b. Alphabet pattern 2\n",
    "\n",
    "n = int(input(\"Enter the Numbers of rows.:\")) # Ask user input for rows.\n",
    "for i in range(0, n+1):\n",
    "    for j in range(i+1):\n",
    "        print(chr(65+i), end=\" \")\n",
    "    print()"
   ]
  },
  {
   "cell_type": "code",
   "execution_count": 125,
   "id": "b0d55842",
   "metadata": {},
   "outputs": [
    {
     "name": "stdout",
     "output_type": "stream",
     "text": [
      "Enter the Numbers of rows.:5\n",
      "A B C D E \n",
      "A B C D \n",
      "A B C \n",
      "A B \n",
      "A \n"
     ]
    }
   ],
   "source": [
    "## c. Alphabet pattern 3\n",
    "\n",
    "n = int(input(\"Enter the Numbers of rows.:\")) # Ask user input for rows.\n",
    "for i in range(n, 0, -1):\n",
    "    for j in range(i):\n",
    "        print(chr(65+j), end=\" \")\n",
    "    print()"
   ]
  },
  {
   "cell_type": "code",
   "execution_count": 134,
   "id": "2add834c",
   "metadata": {},
   "outputs": [
    {
     "name": "stdout",
     "output_type": "stream",
     "text": [
      "Enter the Numbers of rows.:5\n",
      "E E E E E \n",
      "D D D D \n",
      "C C C \n",
      "B B \n",
      "A \n"
     ]
    }
   ],
   "source": [
    "## d. Alphabet pattern 4\n",
    "\n",
    "n = int(input(\"Enter the Numbers of rows.:\")) # Ask user input for rows.\n",
    "for i in range(n, 0, -1):\n",
    "    for j in range(i):\n",
    "        print(chr(64+i), end=\" \")\n",
    "    print()"
   ]
  }
 ],
 "metadata": {
  "kernelspec": {
   "display_name": "Python 3 (ipykernel)",
   "language": "python",
   "name": "python3"
  },
  "language_info": {
   "codemirror_mode": {
    "name": "ipython",
    "version": 3
   },
   "file_extension": ".py",
   "mimetype": "text/x-python",
   "name": "python",
   "nbconvert_exporter": "python",
   "pygments_lexer": "ipython3",
   "version": "3.9.13"
  }
 },
 "nbformat": 4,
 "nbformat_minor": 5
}
