{
 "cells": [
  {
   "cell_type": "markdown",
   "id": "a79dddd3",
   "metadata": {},
   "source": [
    "#### Que 1. Write a program to check whether a given number is even or odd."
   ]
  },
  {
   "cell_type": "code",
   "execution_count": 25,
   "id": "9c7fd0ca",
   "metadata": {},
   "outputs": [
    {
     "name": "stdout",
     "output_type": "stream",
     "text": [
      "Enter the Number:56\n",
      "The given Number is Even.\n"
     ]
    }
   ],
   "source": [
    "num = int(input(\"Enter the Number:\"))\n",
    "if num % 2 == 0:\n",
    "    print(\"The given Number is Even.\")\n",
    "else:\n",
    "    print(\"The given Number is Odd.\")"
   ]
  },
  {
   "cell_type": "markdown",
   "id": "a35ba5b1",
   "metadata": {},
   "source": [
    "Explanation: In this program, “if else” statement is used as only 1 condition is there, Arithmetic Operator (modulus) is used to get reminder as every even number is divisible by 2 and reminder will be zero always, equality operator (==) is also used."
   ]
  },
  {
   "cell_type": "markdown",
   "id": "d65172ed",
   "metadata": {},
   "source": [
    "#### Que 2. Write a program to check whether an alphabet is a vowel or consonant."
   ]
  },
  {
   "cell_type": "code",
   "execution_count": 2,
   "id": "bbd53be7",
   "metadata": {},
   "outputs": [
    {
     "name": "stdout",
     "output_type": "stream",
     "text": [
      "Enter the alphabet:A\n",
      "The alphabet is vowel.\n"
     ]
    }
   ],
   "source": [
    "x = input(\"Enter the alphabet:\")\n",
    "if (x == 'a' or x == 'e' or x == 'i' or x == 'o' or x == 'u' or x == 'A' or x == 'E' or x == 'I' or x == 'O' or x == 'U'):\n",
    "    print(\"The alphabet is vowel.\",)\n",
    "else:\n",
    "    print(\"The alphabet is consonant.\")"
   ]
  },
  {
   "cell_type": "code",
   "execution_count": 3,
   "id": "828053bc",
   "metadata": {},
   "outputs": [
    {
     "name": "stdout",
     "output_type": "stream",
     "text": [
      "Enter the alphabet:c\n",
      "The alphabet is consonant. : c\n"
     ]
    }
   ],
   "source": [
    "vowel = (\"a\",\"e\",\"i\",\"o\",\"u\",\"A\",\"E\",\"I\",\"O\",\"U\")\n",
    "char = (input(\"Enter the alphabet:\"))\n",
    "if char in vowel:\n",
    "    print(\"The alphabet is vowel. :\",char)\n",
    "else:\n",
    "    print(\"The alphabet is consonant. :\",char)"
   ]
  },
  {
   "cell_type": "markdown",
   "id": "6e9b9c1f",
   "metadata": {},
   "source": [
    "Explanation: Have showed two ways.\n",
    "1.\t“If else” statement is used as only 1 condition is there. Along with it Conditional Statement (Equal) is also used.\n",
    "2.\tMembership operator (“IN”) is used.\n",
    "\n"
   ]
  },
  {
   "cell_type": "markdown",
   "id": "13e3a07a",
   "metadata": {},
   "source": [
    "#### Que 3. Write a program to check whether a person is eligible to vote or not."
   ]
  },
  {
   "cell_type": "code",
   "execution_count": 6,
   "id": "a6d15a68",
   "metadata": {},
   "outputs": [
    {
     "name": "stdout",
     "output_type": "stream",
     "text": [
      "Enter the Age. :45\n",
      "The person is eligible to vote as the age is 45\n"
     ]
    }
   ],
   "source": [
    "age = int(input(\"Enter the Age. :\"))\n",
    "\n",
    "if age>=18:\n",
    "    print(\"The person is eligible to vote as the age is\",age)\n",
    "else:\n",
    "     print(\"The person is not eligible to vote as the age is\",age)"
   ]
  },
  {
   "cell_type": "markdown",
   "id": "97805d83",
   "metadata": {},
   "source": [
    "Explanation: In this program, “if else” statement is used as only 1 condition is there. Comparison operator (greater than or equal to) is used in condition. Condition is the voter should be above 18 years for eligibility and if not, voter is not allowed to give vote."
   ]
  },
  {
   "cell_type": "markdown",
   "id": "85601d84",
   "metadata": {},
   "source": [
    "#### Que 4. Write a program to check whether a given number is positive, negative or zero."
   ]
  },
  {
   "cell_type": "code",
   "execution_count": 17,
   "id": "33247301",
   "metadata": {},
   "outputs": [
    {
     "name": "stdout",
     "output_type": "stream",
     "text": [
      "Enter the number. :3\n",
      "The given number is positive. : 3\n"
     ]
    }
   ],
   "source": [
    "num = int(input(\"Enter the number. :\"))\n",
    "\n",
    "if num>0:\n",
    "    print(\"The given number is positive. :\",num)\n",
    "elif num==0:\n",
    "    print(\"The given number is Zero. :\",num)\n",
    "else:\n",
    "    print(\"The given number is negative. :\",num)"
   ]
  },
  {
   "cell_type": "markdown",
   "id": "393eb255",
   "metadata": {},
   "source": [
    "Explanation: In this program, “elif” statement is used as more than 1 condition or multiple conditions are there along with it Comparison operators (Greater than and Equal) are also used.Condition is every number more than 0 is positive and if the number is 0, it reads 0 and if the number is less than 0 it is negative."
   ]
  },
  {
   "cell_type": "markdown",
   "id": "6f3db55a",
   "metadata": {},
   "source": [
    "#### Que 5. Write a program to check whether a given year is leap year or not."
   ]
  },
  {
   "cell_type": "code",
   "execution_count": 7,
   "id": "276b380a",
   "metadata": {},
   "outputs": [
    {
     "name": "stdout",
     "output_type": "stream",
     "text": [
      "Enter the Year.:2024\n",
      "The given year is a Leap Year.\n"
     ]
    }
   ],
   "source": [
    "year = int(input(\"Enter the Year.:\"))\n",
    "\n",
    "if (year%400 == 0) or (year%4==0 and year%100!=0):\n",
    "    print(\"The given year is a Leap Year.\")\n",
    "else:\n",
    "    print(\"The given year is a not a Leap Year.\")"
   ]
  },
  {
   "cell_type": "markdown",
   "id": "5322e344",
   "metadata": {},
   "source": [
    "Explanation: In this program, “if else” statement is used as only 1 condition is there and along with it Logical Operators ( \"or\", \"and\") are also used. Firstly, check if the year variable is divisible by 400. Or secondly, check if the year variable is divisible only by 4 and not 100. And Comparison operators (Equal and Not Equal) are also used. Arithmetic Operator (modulus) is also used.\n"
   ]
  },
  {
   "cell_type": "markdown",
   "id": "333f5974",
   "metadata": {},
   "source": [
    "#### Que 6. Write a program to check a triangle is equilateral, isosceles or scalene."
   ]
  },
  {
   "cell_type": "code",
   "execution_count": 21,
   "id": "b8347ed5",
   "metadata": {},
   "outputs": [
    {
     "name": "stdout",
     "output_type": "stream",
     "text": [
      "Enter triangle side 1.:7\n",
      "Enter triangle side 2.:8\n",
      "Enter triangle side 3.:9\n",
      "The triangle is scalene.\n"
     ]
    }
   ],
   "source": [
    "a = int(input(\"Enter triangle side 1.:\"))\n",
    "b = int(input(\"Enter triangle side 2.:\"))\n",
    "c = int(input(\"Enter triangle side 3.:\"))\n",
    "\n",
    "if a==b==c:\n",
    " print(\"The triangle is equilateral.\")\n",
    "elif a==b or b==c or c==a:\n",
    " print(\"The triangle is isosceles.\")\n",
    "else:\n",
    " print(\"The triangle is scalene.\") \n"
   ]
  },
  {
   "cell_type": "markdown",
   "id": "931b929c",
   "metadata": {},
   "source": [
    "Explanation: In this program, “elif” statement is used as more than 1 condition is there. Along with-it Comparison operator (Equal) is also used. Working: Equilateral Triangle means, triangle with ALL sides same, Isosceles Triangle means, triangle with ONLY TWO sides same and scalene Triangle means, triangle with all sides different. This same thing is depicted in the conditions where Comparison operator (Equal) is also used."
   ]
  },
  {
   "cell_type": "markdown",
   "id": "9c525c2b",
   "metadata": {},
   "source": [
    "#### Que 7. Write a program to check whether after selling a product its profit or loss."
   ]
  },
  {
   "cell_type": "code",
   "execution_count": 10,
   "id": "a53b9de1",
   "metadata": {},
   "outputs": [
    {
     "name": "stdout",
     "output_type": "stream",
     "text": [
      "Enter the cost price.1000\n",
      "Enter the selling price5000\n",
      "It is a Profit.\n"
     ]
    }
   ],
   "source": [
    "c = int(input(\"Enter the cost price.\"))\n",
    "s = int(input(\"Enter the selling price\"))\n",
    "\n",
    "if c < s:\n",
    "    print(\"It is a Profit.\")\n",
    "else:\n",
    "    print(\"It is a Loss.\")"
   ]
  },
  {
   "cell_type": "markdown",
   "id": "65869c29",
   "metadata": {},
   "source": [
    "Note: Here, only profit or loss is displayed."
   ]
  },
  {
   "cell_type": "code",
   "execution_count": 17,
   "id": "54c47b14",
   "metadata": {},
   "outputs": [
    {
     "name": "stdout",
     "output_type": "stream",
     "text": [
      "enter cost_price.10000\n",
      "enter selling_price20000\n",
      "Profit of 10000\n"
     ]
    }
   ],
   "source": [
    "cost_price = int(input(\"enter cost_price.\"))\n",
    "selling_price = int(input(\"enter selling_price\"))\n",
    "\n",
    "if (selling_price > cost_price):\n",
    "    profit = selling_price - cost_price\n",
    "    print(\"Profit of\",profit)\n",
    "elif( cost_price > selling_price):\n",
    "    loss = cost_price - selling_price\n",
    "    print(\"Loss of\",loss)\n",
    "else:\n",
    "    print(\"No Profit No Loss\")"
   ]
  },
  {
   "cell_type": "markdown",
   "id": "b1c84558",
   "metadata": {},
   "source": [
    "Note: Here, with profit or loss, the amount is also printed."
   ]
  },
  {
   "cell_type": "markdown",
   "id": "70c7839e",
   "metadata": {},
   "source": [
    "Explanation: In this program, “if else” statement is used as only 1 condition is there. Condition says if the cost price is less than selling price there is profit but if the cost price is more than the selling price than there is loss and, in that case, else part is executed."
   ]
  },
  {
   "cell_type": "markdown",
   "id": "174667ee",
   "metadata": {},
   "source": [
    "#### Que 8. Write a program to enter two numbers and print the greatest number."
   ]
  },
  {
   "cell_type": "code",
   "execution_count": 27,
   "id": "ef669dc1",
   "metadata": {},
   "outputs": [
    {
     "name": "stdout",
     "output_type": "stream",
     "text": [
      "Enter Number 1.:20\n",
      "Enter Number 2.:10\n",
      "The greatest number is num1.: 20\n"
     ]
    }
   ],
   "source": [
    "num1 = int(input(\"Enter Number 1.:\"))\n",
    "num2 = int(input(\"Enter Number 2.:\"))\n",
    "\n",
    "if num1>num2: \n",
    " print(\"The greatest number is num1.:\",num1)\n",
    "elif num2>num1:\n",
    " print(\"The greatest number is num2.:\",num2)\n",
    "else:\n",
    "    print(\"Both are Equal.\")"
   ]
  },
  {
   "cell_type": "markdown",
   "id": "d54218f6",
   "metadata": {},
   "source": [
    "Explanation: In this program, “elif” statement is used as more than 1 condition is there. along with-it Comparison operator (Greater than) is also used. Working: If num1 is greater, \"IF' condition is executed. If num2 is greater, \"ELIF' condition is executed. If both the values are same “else” condition is executed."
   ]
  },
  {
   "cell_type": "markdown",
   "id": "a20ae387",
   "metadata": {},
   "source": [
    "#### Que 9. Write a program to enter two numbers and print the smallest number."
   ]
  },
  {
   "cell_type": "code",
   "execution_count": 28,
   "id": "fdaf113e",
   "metadata": {},
   "outputs": [
    {
     "name": "stdout",
     "output_type": "stream",
     "text": [
      "Enter Number 1.:40\n",
      "Enter Number 2.:30\n",
      "The smallest number is num2.: 30\n"
     ]
    }
   ],
   "source": [
    "num1 = int(input(\"Enter Number 1.:\"))\n",
    "num2 = int(input(\"Enter Number 2.:\"))\n",
    "\n",
    "if num1<num2: \n",
    " print(\"The smallest number is num1.:\",num1)\n",
    "elif num2<num1:\n",
    " print(\"The smallest number is num2.:\",num2)\n",
    "else:\n",
    "    print(\"Both are Equal.\")"
   ]
  },
  {
   "cell_type": "markdown",
   "id": "68d5a01a",
   "metadata": {},
   "source": [
    "Explanation: In this program, “elif” statement is used as more than 1 condition is there. along with-it Comparison operator (Less than) is also used. Working: if num1 is smaller, \"IF' condition is executed. If num2 is smaller, \"ELIF' condition is executed. If both the values are same else condition is executed."
   ]
  },
  {
   "cell_type": "markdown",
   "id": "5d7e6174",
   "metadata": {},
   "source": [
    "#### Que 10. Write a program to enter three numbers and print the greatest number."
   ]
  },
  {
   "cell_type": "code",
   "execution_count": 29,
   "id": "501a1841",
   "metadata": {},
   "outputs": [
    {
     "name": "stdout",
     "output_type": "stream",
     "text": [
      "Enter Number 1.:10\n",
      "Enter Number 2.:20\n",
      "Enter Number 3.:30\n",
      "The greatest number is num3.: 30\n"
     ]
    }
   ],
   "source": [
    "num1 = int(input(\"Enter Number 1.:\"))\n",
    "num2 = int(input(\"Enter Number 2.:\"))\n",
    "num3 = int(input(\"Enter Number 3.:\"))\n",
    "\n",
    "if num1>num2 and num1>num3: \n",
    " print(\"The greatest number is num1.:\",num1)\n",
    "elif num2>num1 and num2>num3:\n",
    " print(\"The greatest number is num2.:\",num2)\n",
    "elif num3>num1 and num3>num2:\n",
    " print(\"The greatest number is num3.:\",num3)\n",
    "\n",
    "else:\n",
    "    print(\"All are Equal.\")"
   ]
  },
  {
   "cell_type": "markdown",
   "id": "9f8d1fee",
   "metadata": {},
   "source": [
    " Explanation: In this program, “elif” statement is used as more than 1 condition is there. Along with-it Comparison operator (Greatest than) is also used. Working: if num1 is greatest, \"IF' condition is executed. If num2 is greatest, \"ELIF 1' condition is executed. If num3 is greatest, \"ELIF 2' condition is executed. If ALL values are same “else” condition is executed."
   ]
  },
  {
   "cell_type": "markdown",
   "id": "9504912c",
   "metadata": {},
   "source": [
    "#### Que 11. Write a program to enter three numbers and print the smallest number."
   ]
  },
  {
   "cell_type": "code",
   "execution_count": 30,
   "id": "f74cf0e1",
   "metadata": {},
   "outputs": [
    {
     "name": "stdout",
     "output_type": "stream",
     "text": [
      "Enter Number 1.:40\n",
      "Enter Number 2.:50\n",
      "Enter Number 3.:60\n",
      "The smallest number is num1.: 40\n"
     ]
    }
   ],
   "source": [
    "num1 = int(input(\"Enter Number 1.:\"))\n",
    "num2 = int(input(\"Enter Number 2.:\"))\n",
    "num3 = int(input(\"Enter Number 3.:\"))\n",
    "\n",
    "if num1<num2 and num1<num3: \n",
    " print(\"The smallest number is num1.:\",num1)\n",
    "elif num2<num1 and num2<num3:\n",
    " print(\"The smallest number is num2.:\",num2)\n",
    "elif num3<num1 and num3<num2:\n",
    " print(\"The smallest number is num3.:\",num3)\n",
    "\n",
    "else:\n",
    "    print(\"All are Equal.\")"
   ]
  },
  {
   "cell_type": "markdown",
   "id": "fd8d461d",
   "metadata": {},
   "source": [
    "Explanation: In this program, “elif” statement is used as more than 1 condition is there. Along with-it Comparison operator (Less than) is also used. Working: if num1 is smallest, \"IF' condition is executed. If num2 is smallest, \"ELIF 1' condition is executed. If num3 is smallest, \"ELIF 2' condition is executed. If ALL values are same “else” condition is executed."
   ]
  },
  {
   "cell_type": "markdown",
   "id": "224c6a58",
   "metadata": {},
   "source": [
    "#### Que 12. Write a program to calculate the roots of quadratic equation."
   ]
  },
  {
   "cell_type": "code",
   "execution_count": 51,
   "id": "af050d34",
   "metadata": {},
   "outputs": [
    {
     "name": "stdout",
     "output_type": "stream",
     "text": [
      "Enter the coefficient a :4\n",
      "Enter the coefficient b :8\n",
      "Enter the coefficient c :2\n",
      "Roots are Real and Unequal. -0.2928932188134524 and -1.7071067811865475\n"
     ]
    }
   ],
   "source": [
    "import math\n",
    "a = float(input(\"Enter the coefficient a :\"))\n",
    "b = float(input(\"Enter the coefficient b :\"))\n",
    "c = float(input(\"Enter the coefficient c :\"))\n",
    "d = (b**2) - (4*a*c)\n",
    "if d>0:\n",
    "    r1 = (-b + math.sqrt(d))/(2*a)\n",
    "    r2 = (-b - math.sqrt(d))/(2*a)\n",
    "    print(\"Roots are Real and Unequal.\",r1,\"and\",r2)\n",
    "elif d ==0:\n",
    "    r1 = -b/(2*a)\n",
    "    print(\"Roots are Real and same.\",r1)\n",
    "else:\n",
    "    print(\"No Real Roots are there.\")\n",
    "    "
   ]
  },
  {
   "cell_type": "markdown",
   "id": "db9a0e15",
   "metadata": {},
   "source": [
    "Explanation: In this Program, to calculate the discriminant of the quadratic equation. firstly 3 user inputs are taken in float. Then in \"d\", discriminant formula is stored which is (bb) - (4ac). (Discriminant is used to find the roots of the equations). Then 3 different conditions are given for finding the roots with their formulas. The result depends in the input given and conditions together. "
   ]
  },
  {
   "cell_type": "markdown",
   "id": "194d3499",
   "metadata": {},
   "source": [
    "#### Que 13. Write a program to enter a number between (1 – 7)  and print the respective day of the week."
   ]
  },
  {
   "cell_type": "code",
   "execution_count": 7,
   "id": "df2a44f2",
   "metadata": {},
   "outputs": [
    {
     "name": "stdout",
     "output_type": "stream",
     "text": [
      "Enter the x value.:7\n",
      "Saturday\n"
     ]
    }
   ],
   "source": [
    "x = int(input('Enter the x value.:'))\n",
    "if x == 1:\n",
    "    print(\"Sunday\")\n",
    "elif x == 2:\n",
    "    print(\"Monday\")\n",
    "elif x == 3:\n",
    "    print(\"Tuesday\")\n",
    "elif x == 4:\n",
    "    print(\"Wednesday\")\n",
    "elif x == 5:\n",
    "    print(\"Thursday\")\n",
    "elif x == 6:\n",
    "    print(\"Friday\")\n",
    "elif x == 7:\n",
    "    print(\"Saturday\")\n",
    "else:\n",
    "    print(\"Invalid Input,please the Number and Re-enter.\")"
   ]
  },
  {
   "cell_type": "markdown",
   "id": "ba1db74f",
   "metadata": {},
   "source": [
    "Explanation: In this program, “elif” statement is used as multiple conditions are there. Along with-it Comparison operator (Equal) is also used."
   ]
  },
  {
   "cell_type": "markdown",
   "id": "8c020951",
   "metadata": {},
   "source": [
    "#### Que 14. Write a program to enter a number between (1 – 12) and print the respective months."
   ]
  },
  {
   "cell_type": "code",
   "execution_count": 5,
   "id": "a3a2118a",
   "metadata": {},
   "outputs": [
    {
     "name": "stdout",
     "output_type": "stream",
     "text": [
      "Enter the x value.:12\n",
      "December\n"
     ]
    }
   ],
   "source": [
    "x = int(input('Enter the x value.:'))\n",
    "if x == 1:\n",
    " print(\"January\")\n",
    "elif x == 2:\n",
    " print(\"February\")\n",
    "elif x == 3:\n",
    " print(\"March\")\n",
    "elif x == 4:\n",
    " print(\"April\")\n",
    "elif x == 5:\n",
    " print(\"May\")\n",
    "elif x == 6:\n",
    " print(\"June\")\n",
    "elif x == 7:\n",
    " print(\"July\")\n",
    "elif x == 8:\n",
    " print(\"August\")\n",
    "elif x == 9:\n",
    " print(\"September\")\n",
    "elif x == 10:\n",
    " print(\"October\")\n",
    "elif x == 11:\n",
    " print(\"November\")\n",
    "elif x == 12:\n",
    " print(\"December\")\n",
    "else:\n",
    " print(\"Invalid Input,please the Number and Re-enter.\")"
   ]
  },
  {
   "cell_type": "markdown",
   "id": "4ff17de2",
   "metadata": {},
   "source": [
    "Explanation: In this program, “elif” statement is used as multiple conditions are there. Along with-it Comparison operator (Equal) is also used."
   ]
  },
  {
   "cell_type": "markdown",
   "id": "a5b5f507",
   "metadata": {},
   "source": [
    "#### Que 15. Write a program to enter a number between (1 – 4) and perform the following functions.\n",
    "1. Addition\n",
    "2. Subtraction\n",
    "3. Multiplication\n",
    "4. Division\n"
   ]
  },
  {
   "cell_type": "code",
   "execution_count": 31,
   "id": "c117caf4",
   "metadata": {},
   "outputs": [
    {
     "name": "stdout",
     "output_type": "stream",
     "text": [
      "Enter Number 1.:10\n",
      "Enter Number 2.:2\n",
      "Enter the number from given range to perform the function.4\n",
      "The Division is 5.0\n"
     ]
    }
   ],
   "source": [
    "num1 = int(input(\"Enter Number 1.:\"))\n",
    "num2 = int(input(\"Enter Number 2.:\"))\n",
    "\n",
    "operation = int(input(\"Enter the number from given range to perform the function.\"))\n",
    "\n",
    "result = 0\n",
    "if operation == 1:\n",
    "    result = num1+num2\n",
    "    print(\"The Addition is\",result)\n",
    "elif operation == 2:\n",
    "    result = num1-num2\n",
    "    print(\"The Subtraction is\",result)\n",
    "elif operation == 3:\n",
    "    result = num1*num2\n",
    "    print(\"The Multiplication is\",result)\n",
    "elif operation == 4:\n",
    "    result = num1/num2\n",
    "    print(\"The Division is\",result)\n",
    "else:\n",
    "    print(\"The given input is not recognized.\")\n",
    "    \n",
    "    "
   ]
  },
  {
   "cell_type": "markdown",
   "id": "44a5e516",
   "metadata": {},
   "source": [
    "Explanation: In this program, “elif” statement is used as multiple conditions are there. Along with it Comparison operator (Equal) and Arithmetic Operators according to the requirement are also used. The condition is working on the given input as operation."
   ]
  },
  {
   "cell_type": "markdown",
   "id": "3b025a49",
   "metadata": {},
   "source": [
    "#### Que 16. Write a program to covert Temperature to and from Celsius, Fahrenheit."
   ]
  },
  {
   "cell_type": "code",
   "execution_count": 4,
   "id": "cbb4c481",
   "metadata": {},
   "outputs": [
    {
     "name": "stdout",
     "output_type": "stream",
     "text": [
      "Enter the temperature:- 45\n",
      "Enter the unit of temperature:- c\n",
      "Temperature in fahrenheit is 113.0 F\n"
     ]
    }
   ],
   "source": [
    "temp = float(input('Enter the temperature:- '))\n",
    "unit = input('Enter the unit of temperature:- ')\n",
    "if unit == \"C\" or unit == \"c\":\n",
    "    far = (temp * 1.8) + 32\n",
    "    print(f'Temperature in fahrenheit is {far} F')\n",
    "elif unit == \"F\" or unit == \"f\":\n",
    "    cel = (temp - 32) / 1.8\n",
    "    print(f'Temperature in Celsius is {cel} C')\n",
    "else:\n",
    "    print('The given input is not recognized ')"
   ]
  },
  {
   "cell_type": "markdown",
   "id": "f256eb70",
   "metadata": {},
   "source": [
    "Explanation: In this program, firstly 2 user inputs are taken, then if condition is for unit Celsius and under that conversion formula is written and then print statement as well. Then elif condition is for unit Fahrenheit and under that conversion formula is written and then print statement as well. And if by mistake the input is invalid the else part is executed."
   ]
  },
  {
   "cell_type": "markdown",
   "id": "a8bf287a",
   "metadata": {},
   "source": [
    "#### Que 17. A company decides to give bonus of 5% to employee if his/her year of service is more than 5 years. Ask user for their salary and year of service and print the net bonus amount."
   ]
  },
  {
   "cell_type": "code",
   "execution_count": 43,
   "id": "60476e23",
   "metadata": {},
   "outputs": [
    {
     "name": "stdout",
     "output_type": "stream",
     "text": [
      "Enter your salary.:45000\n",
      "Enter the year of service.:6\n",
      "The net bonus amount according to your salary is 2250.0\n"
     ]
    }
   ],
   "source": [
    "salary = int(input(\"Enter your salary.:\"))\n",
    "year = int(input(\"Enter the year of service.:\"))\n",
    "\n",
    "bonus = 0\n",
    "if year > 5:\n",
    "    bonus = salary * .05\n",
    "    print(\"The net bonus amount according to your salary is\",bonus)\n",
    "else:\n",
    "    print(\"The net bonus amount is not generated as your year of service is less than or equals to 5 years.\")\n",
    "    "
   ]
  },
  {
   "cell_type": "markdown",
   "id": "cae66646",
   "metadata": {},
   "source": [
    "Explanation: In this program, “if else” statement is used as only 1 condition is there and along with-it comparison operator (Greater than \">\") and arithmetic operator (Multiplication \" * \") are also used. To satisfy the condition the employee should have worked more than 5 years for the company and if not the condition is not satisfied and in that case else part will be executed."
   ]
  },
  {
   "cell_type": "markdown",
   "id": "814131d2",
   "metadata": {},
   "source": [
    "#### Que 18. Write a program to take input of length and breadth of a rectangle from user and check if it is square or not."
   ]
  },
  {
   "cell_type": "code",
   "execution_count": 3,
   "id": "d86a8bf0",
   "metadata": {},
   "outputs": [
    {
     "name": "stdout",
     "output_type": "stream",
     "text": [
      "Enter the Length.:10\n",
      "Enter the breadth.:10\n",
      "It is a Square.\n"
     ]
    }
   ],
   "source": [
    "l = int(input(\"Enter the Length.:\"))\n",
    "b = int(input(\"Enter the breadth.:\"))\n",
    "\n",
    "if l == b:\n",
    "    print(\"It is a Square.\")\n",
    "else:\n",
    "    print(\"It is not Square.\")\n"
   ]
  },
  {
   "cell_type": "markdown",
   "id": "a6bd2828",
   "metadata": {},
   "source": [
    "Explanation: In this program, “if else” statement is used as only 1 condition is there and along with-it comparison operator (Equal \"=\") is used. Working: Two user inputs are taken as length and breadth. if both are equal the condition is satisfied and if not, else part will be executed."
   ]
  },
  {
   "cell_type": "markdown",
   "id": "528d2f6f",
   "metadata": {},
   "source": [
    "#### Que 19. Take input of age of 3 people from user and determine oldest and youngest among them. "
   ]
  },
  {
   "cell_type": "code",
   "execution_count": 36,
   "id": "401f393a",
   "metadata": {
    "scrolled": true
   },
   "outputs": [
    {
     "name": "stdout",
     "output_type": "stream",
     "text": [
      "Enter Age of person 1.:56\n",
      "Enter Age of person 2.:65\n",
      "Enter Age of person 3.:45\n",
      "The oldest person is 2.\n",
      "The youngest person is 3.\n"
     ]
    }
   ],
   "source": [
    "age1 = int(input(\"Enter Age of person 1.:\"))\n",
    "age2 = int(input(\"Enter Age of person 2.:\"))\n",
    "age3 = int(input(\"Enter Age of person 3.:\"))\n",
    "\n",
    "if age1 == age2 == age3:\n",
    " print(\"They have same age and no one is oldest.\")\n",
    "elif age1>age2 and age1>age3: \n",
    " print(\"The oldest person is 1.\")\n",
    "elif age2>age1 and age2>age3:\n",
    " print(\"The oldest person is 2.\")\n",
    "else:\n",
    " print(\"The oldest person is 3.\")\n",
    "if age1 == age2 == age3:\n",
    " print(\"They have same age and no one is youngest.\")\n",
    "elif age1<age2 and age1<age3: \n",
    " print(\"The youngest person is 1.\")\n",
    "elif age2<age1 and age2<age3:\n",
    " print(\"The youngest person is 2.\")\n",
    "else:\n",
    " print(\"The youngest person is 3.\")"
   ]
  },
  {
   "cell_type": "markdown",
   "id": "6b0ac679",
   "metadata": {},
   "source": [
    "Explanation: In this program, “Nested-if\" statement is used as we want to check for another condition after a condition resolve to true, along with-it comparison operators (Greater than \">\", Less than \"<\" and Equal \"==\") are used. So, here first, the condition is run for getting the oldest person and after that it will check for youngest person."
   ]
  },
  {
   "cell_type": "markdown",
   "id": "7877327d",
   "metadata": {},
   "source": [
    "#### Que 20. A school has following rules for grading system:\n",
    "a.\tBelow 25 – F\n",
    "b.\t25 to 45 – E\n",
    "c.\t45 to 50 – D\n",
    "d.\t50 to 60 – C\n",
    "e.\t60 to 80 – B\n",
    "f.\tAbove 80 – A\n",
    "Ask user to enter their marks and print corresponding grades.\n"
   ]
  },
  {
   "cell_type": "code",
   "execution_count": 42,
   "id": "aa11feea",
   "metadata": {},
   "outputs": [
    {
     "name": "stdout",
     "output_type": "stream",
     "text": [
      "Enter your Marks.:90\n",
      "Your grade is A.\n"
     ]
    }
   ],
   "source": [
    "marks = int(input(\"Enter your Marks.:\"))\n",
    "\n",
    "if marks < 25:\n",
    "    print(\"Your grade is F.\")\n",
    "elif marks >= 25 and marks < 45:\n",
    "    print(\"Your grade is E.\")\n",
    "elif marks >= 45 and marks < 50:\n",
    "    print(\"Your grade is D.\")\n",
    "elif marks >= 50 and marks < 60:\n",
    "    print(\"Your grade is C.\")\n",
    "elif marks >= 60 and marks < 80:\n",
    "    print(\"Your grade is B.\")\n",
    "else:\n",
    "    print(\"Your grade is A.\")\n"
   ]
  },
  {
   "cell_type": "markdown",
   "id": "573d7309",
   "metadata": {},
   "source": [
    "Explanation: In this program, “elif” statement is used as multiple conditions are there. Along with it Comparison operators (\"<\" Less than,\">=\" Greater than or equal) are also used."
   ]
  },
  {
   "cell_type": "markdown",
   "id": "7b5c2ed7",
   "metadata": {},
   "source": [
    "#### Que 21.A student will not be allowed to sit in exam if his/her attendance is less than 75%. Take following input from user Number of classes held Number of classes attended. And print percentage of class attended Is student is allowed to sit in exam or not."
   ]
  },
  {
   "cell_type": "code",
   "execution_count": 2,
   "id": "7aaf48ef",
   "metadata": {
    "scrolled": true
   },
   "outputs": [
    {
     "name": "stdout",
     "output_type": "stream",
     "text": [
      "Number of classes held.:50\n",
      "Number of classes attended.:43\n",
      "percentage of class attended 86.0\n",
      "You can attend the exam.\n"
     ]
    }
   ],
   "source": [
    "noh = int(input(\"Number of classes held.:\"))\n",
    "noa = int(input(\"Number of classes attended.:\"))\n",
    "\n",
    "if (noa/noh)*100 > 75:\n",
    "    print(\"percentage of class attended\",(noa/noh)*100)\n",
    "    print(\"You can attend the exam.\")\n",
    "else:\n",
    "    print(\"percentage of class attended\",(noa/noh)*100)\n",
    "    print(\"You cannot attend the exam.\")"
   ]
  },
  {
   "cell_type": "markdown",
   "id": "8ce0e97e",
   "metadata": {},
   "source": [
    "Explanation: In this program, “if else” statement is used as only one conditions is there. Along with it Comparison operators (\">\" Greater than) is also used."
   ]
  }
 ],
 "metadata": {
  "kernelspec": {
   "display_name": "Python 3 (ipykernel)",
   "language": "python",
   "name": "python3"
  },
  "language_info": {
   "codemirror_mode": {
    "name": "ipython",
    "version": 3
   },
   "file_extension": ".py",
   "mimetype": "text/x-python",
   "name": "python",
   "nbconvert_exporter": "python",
   "pygments_lexer": "ipython3",
   "version": "3.9.13"
  }
 },
 "nbformat": 4,
 "nbformat_minor": 5
}
